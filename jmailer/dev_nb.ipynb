{
 "cells": [
  {
   "cell_type": "code",
   "execution_count": 2,
   "metadata": {},
   "outputs": [],
   "source": [
    "# gmailer init\n"
   ]
  },
  {
   "cell_type": "code",
   "execution_count": 1,
   "metadata": {},
   "outputs": [],
   "source": [
    "import datetime as dt\n",
    "\n",
    "import yaml\n",
    "\n",
    "import requests\n",
    "import smtplib\n",
    "import ssl\n",
    "import mimetypes\n",
    "from email.message import EmailMessage\n",
    "\n",
    "import pandas as pd\n",
    "\n"
   ]
  },
  {
   "cell_type": "markdown",
   "metadata": {},
   "source": [
    "## Load Configurations"
   ]
  },
  {
   "cell_type": "code",
   "execution_count": 16,
   "metadata": {},
   "outputs": [],
   "source": [
    "## password and config\n",
    "config = \"../config.yaml\"\n",
    "config = yaml.safe_load(open(config))\n",
    "\n",
    "def parse_config(config: dict):\n",
    "    \"\"\"\n",
    "    Parse the configuration yaml.\n",
    "\n",
    "    Parameters\n",
    "    -------\n",
    "    config (dict{any}): Dictionary of congiruations.\n",
    "\n",
    "    Returns\n",
    "    -------\n",
    "    credentials (dict(any)): Dictionary of credentials.\n",
    "    \"\"\"\n",
    "    credentials = config[\"credentials\"]\n",
    "    ...\n",
    "    return credentials\n",
    "\n",
    "credentials = parse_config(config)"
   ]
  },
  {
   "cell_type": "markdown",
   "metadata": {},
   "source": [
    "# Methods"
   ]
  },
  {
   "cell_type": "code",
   "execution_count": 161,
   "metadata": {},
   "outputs": [],
   "source": [
    "def get_csv_as_list(filepath: str) -> list:\n",
    "    \"\"\"\n",
    "    Get list using a path to a csv.\n",
    "\n",
    "    Parameters\n",
    "    -------\n",
    "    filepath (str): filepath. \n",
    "\n",
    "    Returns\n",
    "    -------\n",
    "    ([str]): List of values.\n",
    "    \n",
    "    \"\"\"\n",
    "    import pandas as pd\n",
    "    recipients = pd.read_csv(recipients_csv_path, header=None)\n",
    "    return recipients[0].values.tolist()\n",
    "\n",
    "\n",
    "#### Potential Class 0\n",
    "class Clearbit():\n",
    "    \"\"\"A class for working with Clearbit API.\"\"\"\n",
    "    def get_name(self, response: requests.models.Response) -> (str, str):\n",
    "        \"\"\"\n",
    "        Parse response for HTTP request.\n",
    "\n",
    "        Parameters\n",
    "        -------\n",
    "        response (requests.models.Response): Http response with person data.\n",
    "\n",
    "        Returns\n",
    "        -------\n",
    "        name (str, str): Tuple of first and last name. \n",
    "        \"\"\"\n",
    "        if not isinstance(response, requests.models.Response):\n",
    "            print(\"Not a request.\")\n",
    "            return \n",
    "        name = (None, None)\n",
    "        data = response.json()\n",
    "\n",
    "        person = data[\"person\"]\n",
    "        first_name = person[\"name\"][\"givenName\"]\n",
    "        last_name = person[\"name\"][\"familyName\"]\n",
    "        name = (first_name, last_name)\n",
    "        return name\n",
    "\n",
    "\n",
    "    def get_names_from_email_list(self, recipients_list:[str], username=None, password=None, api_key=None):\n",
    "        \"\"\"\n",
    "        Given a list of recipients, use Clearbit to retreive their names. Other data may be retreieved but at a later stage. \n",
    "        The username is the api_key from Clearbit. Read their docs for more info.\n",
    "\n",
    "        Parameters\n",
    "        -------\n",
    "        username (str): Optional. Username.\n",
    "        password (str): Optional. Password.\n",
    "        api_key (str): API key.\n",
    "\n",
    "        Returns\n",
    "        -------\n",
    "        names {}: Dict of emails to names.\n",
    "        \"\"\"\n",
    "        names = {}\n",
    "        # NOTE: may want to batch this in the future or too many requests will be attempted too quickly.\n",
    "        for email in recipients_list:\n",
    "            url = f\"https://person.clearbit.com/v2/combined/find?email=:{email}\"\n",
    "            clearbit_response = get_response(url, username=username, password=password, api_key=api_key)\n",
    "            names[email] = self.get_name(clearbit_response)\n",
    "        return names\n",
    "#####\n",
    "\n",
    "\n",
    "def get_response(url: str, username=None, password=None, api_key=None):\n",
    "    \"\"\"\n",
    "    Get a response from API using HTTP.\n",
    "\n",
    "    Parameters\n",
    "    -------\n",
    "    url (str): Url for API request.\n",
    "    username (str): Optional. Username.\n",
    "    password (str): Optional. Password.\n",
    "    api_key (str): API key.\n",
    "\n",
    "    Returns\n",
    "    -------\n",
    "    api_response (requests.models.Response): Response.\n",
    "    \"\"\"\n",
    "    api_response = None\n",
    "    api_response = requests.get(url, auth=(username, password))\n",
    "    return api_response\n"
   ]
  },
  {
   "cell_type": "markdown",
   "metadata": {},
   "source": [
    "# Email class"
   ]
  },
  {
   "cell_type": "code",
   "execution_count": 174,
   "metadata": {},
   "outputs": [],
   "source": [
    "def send_mail(\n",
    "    sender: str, recipients: list, subject:str, \n",
    "    password: str, \n",
    "    clearbit_user=None,\n",
    "    attachment_path=None,\n",
    "    body=None, body_path=None, body_config=None\n",
    "):\n",
    "    \"\"\"\n",
    "    Send an email via SMTP. Recommended body is provided as HTML formatted text. Provide body or body_path and body_config but not both. \n",
    "\n",
    "    Parameters\n",
    "    -------\n",
    "    sender (str): Sender as a string.\n",
    "    recipients ([str]): List of recipients. \n",
    "    subject (str): Email subject line.\n",
    "    password (str): Gmail password as string.\n",
    "    clearbit_user (str): Optional. Clearbit username. \n",
    "    attachment_path (str): Optional. Filepath to attachment. \n",
    "    body (str): Optional. Optional. Email body as string.\n",
    "    body_path (str): Optional. Email body path to be parsed using the body config. Recommended to use HTML formatting.\n",
    "    body_config (str): Optional. Email config for the body including variables that can be quickly parsed and replaced.\n",
    "    \n",
    "    Returns\n",
    "    -------\n",
    "    None\n",
    "    \"\"\"\n",
    "    def add_attachment(email: EmailMessage, attachment_path: str) -> EmailMessage:\n",
    "        \"\"\"\n",
    "        Given original email message. May or may not include an attachment already.\n",
    "\n",
    "        Parameters:\n",
    "        -------\n",
    "        email (EmailMessage): EmailMessage.\n",
    "        attachment_path (str): Filepath to attachment.\n",
    "\n",
    "        Returns\n",
    "        -------\n",
    "        email (EmailMessage): Mail message with new attachment.\n",
    "        \"\"\"\n",
    "        # Attachments\n",
    "        with open(attachment_path, \"rb\") as fp:\n",
    "            data = fp.read()\n",
    "\n",
    "        # guess encoding\n",
    "        ctype, encoding = mimetypes.guess_type(attachment_path)\n",
    "        if ctype is None or encoding is not None:\n",
    "            # No guess could be made, or the file is encoded (compressed), so\n",
    "            # use a generic bag-of-bits type.\n",
    "            ctype = \"application/octet-stream\"\n",
    "        maintype, subtype = ctype.split(\"/\", 1)\n",
    "\n",
    "        email.add_attachment(data, maintype=maintype, subtype=subtype)\n",
    "        print(f\"Successfully attached: {attachment_path}\")\n",
    "        return email\n",
    "\n",
    "\n",
    "    def build_text(text_path: str, text_vars=None) -> str:\n",
    "        \"\"\"\n",
    "        Using passed-along dictionary of variable names to values, fill in the \n",
    "        text file located at text_path. May be passed on no variables to fill, in which case the text body is returned as-is.\n",
    "        Ignores case (case-insensitive). \n",
    "\n",
    "        Parameters\n",
    "        -------\n",
    "        text_path (str): Path to text file.\n",
    "        text_vars (dict): Dictionary of variables. Optional\n",
    "\n",
    "        Returns\n",
    "        -------\n",
    "        query (str): Filled-in text body by value using the text_vars dictionary.\n",
    "        \"\"\"\n",
    "        import regex as re\n",
    "\n",
    "        DEFAULT_FILL_IN = \"\"\n",
    "\n",
    "        # Get the text.\n",
    "        with open(text_path, \"r+\") as f:\n",
    "            text = f.read() \n",
    "        f.close()\n",
    "        if text_vars == None:\n",
    "            return text\n",
    "\n",
    "        # Extract variables from the text.\n",
    "        variables_in_text = re.findall(\"\\{(.*?)\\}\", text, flags=re.IGNORECASE)\n",
    "\n",
    "        # do a replacement: each time call local_vars...\n",
    "        for var in variables_in_text:\n",
    "            replace_me = \"\\{\" + var + \"\\}\"\n",
    "            replace_with = str(text_vars.get(var,DEFAULT_FILL_IN))\n",
    "            text = re.sub(replace_me, replace_with, text)\n",
    "        return text\n",
    "\n",
    "    if body != None and (body_path != None or body_config != None):\n",
    "        print(\"Provide body or body_path and body_config but not both.\")\n",
    "        return\n",
    "\n",
    "    email = EmailMessage()\n",
    "    email[\"Sender\"] = sender\n",
    "    email[\"Recipients\"] = \", \".join(recipients)\n",
    "    email[\"Subject\"] = subject\n",
    "\n",
    "    if body != None:\n",
    "        email.set_content(body)\n",
    "\n",
    "    if attachment_path != None:\n",
    "        email = add_attachment(email, attachment_path)\n",
    "\n",
    "    # Email failsafe.\n",
    "    confirm_send = input(f\"Are you sure you want to send to recipients? (Y/N) \\n\\n {recipients}\\n\")\n",
    "\n",
    "    # Get names using emails with Clearbit.\n",
    "    cb = Clearbit()\n",
    "    names_from_emails = cb.get_names_from_email_list(recipients, username=clearbit_user)\n",
    "\n",
    "    # Do email sending.\n",
    "    if confirm_send.lower() == \"y\":\n",
    "        context = ssl.create_default_context()\n",
    "        print(\"Sending email...\")\n",
    "        with smtplib.SMTP_SSL(\"smtp.gmail.com\", 465) as smtp_server:\n",
    "            smtp_server.login(sender, password)\n",
    "            for to in recipients:\n",
    "                 # Value 0 indicates first name, 1 is last name.\n",
    "                body_config[\"addressee\"] = names_from_emails[to][0]\n",
    "                body = build_text(body_path, body_config)\n",
    "                email.set_content(body, subtype=\"html\")\n",
    "                smtp_server.sendmail(sender, [\"jaime.meriz13@gmail.com\"], email.as_string())\n",
    "                \n",
    "        print(\"Message sent!\")\n",
    "    else:\n",
    "        print(\"Message NOT sent!\")\n",
    "\n",
    "    return email\n",
    "\n"
   ]
  },
  {
   "cell_type": "markdown",
   "metadata": {},
   "source": [
    "# Testing the password trigger sender."
   ]
  },
  {
   "cell_type": "code",
   "execution_count": 175,
   "metadata": {},
   "outputs": [
    {
     "name": "stdout",
     "output_type": "stream",
     "text": [
      "Sending email...\n",
      "Message sent!\n"
     ]
    }
   ],
   "source": [
    "# password\n",
    "password = credentials[\"gmail\"][\"app_password\"]\n",
    "clearbit_api = credentials[\"clearbit\"][\"api_key\"]\n",
    "\n",
    "sender = \"jaime.meriz13@gmail.com\"\n",
    "\n",
    "# get senders from file path\n",
    "# recipient path should be: list of recipients. Single recipient.\n",
    "recipients_csv_path = \"/Users/jaimemerizalde/Desktop/JOBS 2023/email_recipients.csv\"\n",
    "recipients = get_csv_as_list(recipients_csv_path)\n",
    "\n",
    "# subject \n",
    "subject = \"DEV\" + \"-\" \"Jmail\" + \"-\" + str(dt.date.today())\n",
    "\n",
    "\n",
    "# \n",
    "body_path = \"/Users/jaimemerizalde/Desktop/JOBS 2023/Email Outreaches/generic_1/body.txt\"\n",
    "body = \"body\\nyours\\nDr. Lopez\"\n",
    "\n",
    "body_config_path = \"/Users/jaimemerizalde/Desktop/JOBS 2023/Email Outreaches/generic_1/body.yaml\"\n",
    "body_config = yaml.safe_load(open(body_config_path))\n",
    "\n",
    "email = send_mail(\n",
    "    sender, recipients, subject, password, clearbit_user=clearbit_api, body_path=body_path, body_config=body_config,\n",
    ")\n"
   ]
  },
  {
   "cell_type": "code",
   "execution_count": 177,
   "metadata": {},
   "outputs": [
    {
     "data": {
      "text/plain": [
       "<email.message.EmailMessage at 0x122f8fa10>"
      ]
     },
     "execution_count": 177,
     "metadata": {},
     "output_type": "execute_result"
    }
   ],
   "source": []
  },
  {
   "cell_type": "markdown",
   "metadata": {},
   "source": [
    "# Email Body Formatting"
   ]
  },
  {
   "cell_type": "code",
   "execution_count": 137,
   "metadata": {},
   "outputs": [
    {
     "data": {
      "text/plain": [
       "{'company': 'Garner Health',\n",
       " 'job_industry': 'health care',\n",
       " 'role': 'Data Science engineering',\n",
       " 'job_post_origin': 'Flexjobs.com',\n",
       " 'tools_used': 'Python, Snowflake, Buildkite, Pandas, Heroku, Swagger, Git, Pycharm CE, Heroku, and MS Azure',\n",
       " 'web_linkedIn': 'https://www.linkedin.com/in/jaimemeriz/',\n",
       " 'web_git': 'https://github.com/jlopez8',\n",
       " 'web_1': 'https://scatoolsuite.gitbook.io/sca-tool-suite/',\n",
       " 'my_first': 'Jaime',\n",
       " 'my_last': 'Lopez-Merizalde',\n",
       " 'my_email': 'jaime.meriz13@gmail.com',\n",
       " 'my_phone': '+1 402-707-9444'}"
      ]
     },
     "execution_count": 137,
     "metadata": {},
     "output_type": "execute_result"
    }
   ],
   "source": [
    "filepath = \"/Users/jaimemerizalde/Desktop/JOBS 2023/Email Outreaches/generic_1/body.yaml\"\n",
    "body_config = yaml.safe_load(open(filepath))\n",
    "\n",
    "# filepath = \n",
    "body_config"
   ]
  },
  {
   "cell_type": "code",
   "execution_count": 57,
   "metadata": {},
   "outputs": [],
   "source": [
    "body_path = \"/Users/jaimemerizalde/Desktop/JOBS 2023/Email Outreaches/generic_1/body.txt\"\n",
    "# text_vars = body_config\n",
    "body = build_text(body_path, body_config)\n",
    "email.set_content(body, subtype=\"html\")\n"
   ]
  },
  {
   "cell_type": "code",
   "execution_count": 58,
   "metadata": {},
   "outputs": [
    {
     "name": "stdout",
     "output_type": "stream",
     "text": [
      "Message sent!\n"
     ]
    }
   ],
   "source": [
    "sender = \"jaime.meriz13@gmail.com\"\n",
    "recipients = [\"jaime.meriz13@gmail.com\"]\n",
    "password = credentials[\"gmail\"][\"app_password\"]\n",
    "\n",
    "context = ssl.create_default_context()\n",
    "\n",
    "with smtplib.SMTP_SSL(\"smtp.gmail.com\", 465) as smtp_server:\n",
    "    smtp_server.login(sender, password)\n",
    "    smtp_server.sendmail(sender, recipients, email.as_string())\n",
    "    print(\"Message sent!\")\n"
   ]
  },
  {
   "cell_type": "markdown",
   "metadata": {},
   "source": [
    "# Parsing clearbit"
   ]
  },
  {
   "cell_type": "code",
   "execution_count": 108,
   "metadata": {},
   "outputs": [
    {
     "data": {
      "text/plain": [
       "'Marco'"
      ]
     },
     "execution_count": 108,
     "metadata": {},
     "output_type": "execute_result"
    }
   ],
   "source": [
    "\n",
    "\n",
    "username = credentials[\"clearbit\"][\"api_key\"]\n",
    "\n",
    "result = Clearbit().get_names_from_email_list(recipients, username=username)\n",
    "\n",
    "name = result[\"marco.starger@getgarner.com\"][0]\n",
    "\n",
    "name\n",
    "\n",
    "\n"
   ]
  },
  {
   "cell_type": "code",
   "execution_count": 93,
   "metadata": {},
   "outputs": [],
   "source": [
    "cb = Clearbit()\n",
    "\n",
    "cb.get_names_from_email_list"
   ]
  },
  {
   "cell_type": "code",
   "execution_count": null,
   "metadata": {},
   "outputs": [],
   "source": []
  }
 ],
 "metadata": {
  "kernelspec": {
   "display_name": "petdesk",
   "language": "python",
   "name": "python3"
  },
  "language_info": {
   "codemirror_mode": {
    "name": "ipython",
    "version": 3
   },
   "file_extension": ".py",
   "mimetype": "text/x-python",
   "name": "python",
   "nbconvert_exporter": "python",
   "pygments_lexer": "ipython3",
   "version": "3.11.0"
  },
  "orig_nbformat": 4
 },
 "nbformat": 4,
 "nbformat_minor": 2
}
