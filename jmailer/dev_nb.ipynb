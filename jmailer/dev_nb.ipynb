{
 "cells": [
  {
   "cell_type": "code",
   "execution_count": 2,
   "metadata": {},
   "outputs": [],
   "source": [
    "# gmailer init\n"
   ]
  },
  {
   "cell_type": "code",
   "execution_count": 260,
   "metadata": {},
   "outputs": [],
   "source": [
    "import datetime as dt\n",
    "\n",
    "import yaml\n",
    "\n",
    "import requests\n",
    "import smtplib\n",
    "import ssl\n",
    "import mimetypes\n",
    "from email.message import EmailMessage\n",
    "\n",
    "import pandas as pd\n",
    "\n"
   ]
  },
  {
   "cell_type": "markdown",
   "metadata": {},
   "source": [
    "## Load Configurations"
   ]
  },
  {
   "cell_type": "code",
   "execution_count": 298,
   "metadata": {},
   "outputs": [],
   "source": [
    "## password and config\n",
    "config = \"../config.yaml\"\n",
    "config = yaml.safe_load(open(config))\n",
    "\n",
    "def parse_config(config: dict):\n",
    "    \"\"\"\n",
    "    Parse the configuration yaml.\n",
    "\n",
    "    Parameters\n",
    "    -------\n",
    "    config (dict{any}): Dictionary of congiruations.\n",
    "\n",
    "    Returns\n",
    "    -------\n",
    "    credentials (dict(any)): Dictionary of credentials.\n",
    "    \"\"\"\n",
    "    credentials = config[\"credentials\"]\n",
    "    ...\n",
    "    return credentials\n",
    "\n",
    "credentials = parse_config(config)"
   ]
  },
  {
   "cell_type": "markdown",
   "metadata": {},
   "source": [
    "# Methods"
   ]
  },
  {
   "cell_type": "code",
   "execution_count": 262,
   "metadata": {},
   "outputs": [],
   "source": [
    "def get_csv_as_list(filepath: str) -> list:\n",
    "    \"\"\"\n",
    "    Get list using a path to a csv.\n",
    "\n",
    "    Parameters\n",
    "    -------\n",
    "    filepath (str): filepath. \n",
    "\n",
    "    Returns\n",
    "    -------\n",
    "    ([str]): List of values.\n",
    "    \n",
    "    \"\"\"\n",
    "    import pandas as pd\n",
    "    recipients = pd.read_csv(recipients_csv_path, header=None)\n",
    "    return recipients[0].values.tolist()\n",
    "\n",
    "\n",
    "#### Potential Class 0\n",
    "class Clearbit():\n",
    "    \"\"\"A class for working with Clearbit API.\"\"\"\n",
    "    def get_name(response: requests.models.Response) -> (str, str):\n",
    "        \"\"\"\n",
    "        Parse response for HTTP request.\n",
    "\n",
    "        Parameters\n",
    "        -------\n",
    "        response (requests.models.Response): Http response with person data.\n",
    "\n",
    "        Returns\n",
    "        -------\n",
    "        name (str, str): Tuple of first and last name. \n",
    "        \"\"\"\n",
    "        if not isinstance(y, requests.models.Response):\n",
    "            print(\"Not a request.\")\n",
    "            return \n",
    "        name = (None, None)\n",
    "        data = response.json()\n",
    "        person = data[\"person\"]\n",
    "        first_name = person[\"name\"][\"givenName\"]\n",
    "        last_name = person[\"name\"][\"familyName\"]\n",
    "        name = (first_name, last_name)\n",
    "        return name\n",
    "\n",
    "\n",
    "    def get_names_from_email_list(recipients_list:[str], username=None, password=None, api_key=None):\n",
    "        \"\"\"\n",
    "        Given a list of recipients, use Clearbit to retreive their names. Other data may be retreieved but at a later stage. \n",
    "        The username is the api_key from Clearbit. Read their docs for more info.\n",
    "\n",
    "        Parameters\n",
    "        -------\n",
    "        username (str): Optional. Username.\n",
    "        password (str): Optional. Password.\n",
    "        api_key (str): API key.\n",
    "\n",
    "        Returns\n",
    "        -------\n",
    "        names {}: Dict of emails to names.\n",
    "        \"\"\"\n",
    "        names = {}\n",
    "        # NOTE: may want to batch this in the future or too many requests will be attempted too quickly.\n",
    "        for email in recipients_list:\n",
    "            url = f\"https://person.clearbit.com/v2/combined/find?email=:{email}\"\n",
    "            clearbit_response = get_response(url, username=clearbit_api_key, password=None, api_key=None)\n",
    "            names[email] = get_name(clearbit_response)\n",
    "        return names\n",
    "#####\n",
    "\n",
    "\n",
    "def get_response(url: str, username=None, password=None, api_key=None):\n",
    "    \"\"\"\n",
    "    Get a response from API using HTTP.\n",
    "\n",
    "    Parameters\n",
    "    -------\n",
    "    url (str): Url for API request.\n",
    "    username (str): Optional. Username.\n",
    "    password (str): Optional. Password.\n",
    "    api_key (str): API key.\n",
    "\n",
    "    Returns\n",
    "    -------\n",
    "    api_response (requests.models.Response): Response.\n",
    "    \"\"\"\n",
    "    api_response = None\n",
    "    api_response = requests.get(url, auth=(username, password))\n",
    "    return api_response\n",
    "\n",
    "\n",
    "\n"
   ]
  },
  {
   "cell_type": "markdown",
   "metadata": {},
   "source": [
    "# Email class"
   ]
  },
  {
   "cell_type": "code",
   "execution_count": 263,
   "metadata": {},
   "outputs": [],
   "source": [
    "sender = \"jaime.meriz13@gmail.com\"\n",
    "\n",
    "# recipient path should be: list of recipients. Single recipient.\n",
    "# recipients_csv_path = \"/Users/jaimemerizalde/Desktop/JOBS 2023/email_recipients.csv\"\n",
    "recipients_csv_path = \"/Users/jaimemerizalde/Desktop/JOBS 2023/email_recipients_2.csv\"\n",
    "recipients = get_csv_as_list(recipients_csv_path)\n",
    "\n",
    "subject = \"DEV\" + \"-\" \"Jmail\" + \"-\" + str(dt.date.today())\n",
    "body = \"body\\nyours\\nDr. Lopez\"\n",
    "# password = \"password\""
   ]
  },
  {
   "cell_type": "code",
   "execution_count": 131,
   "metadata": {},
   "outputs": [
    {
     "name": "stdout",
     "output_type": "stream",
     "text": [
      "Successfully attached: SF_Ryu.png\n",
      "Sending email...\n",
      "Message sent!\n"
     ]
    }
   ],
   "source": [
    "def send_mail(sender: str, recipients: list, subject:str, body: str, password: str, attachment_path=None):\n",
    "    \"\"\"\n",
    "    Send an email via SMTP.\n",
    "\n",
    "    Parameters\n",
    "    -------\n",
    "    sender (str): Sender as a string.\n",
    "    recipients ([str]): List of recipients. \n",
    "    subject (str): Email subject line.\n",
    "    body (str): Email body as string.\n",
    "    password (str): Gmail password as string.\n",
    "    attachment_path (str): Optional. Filepath to attachment. \n",
    "    \n",
    "    Returns\n",
    "    -------\n",
    "    None\n",
    "    \"\"\"\n",
    "    def add_attachment(email: EmailMessage, filepath: str) -> EmailMessage:\n",
    "        \"\"\"\n",
    "        Given original email message. May or may not include an attachment already.\n",
    "\n",
    "        Parameters:\n",
    "        -------\n",
    "        email (EmailMessage): EmailMessage.\n",
    "        filepath (str): Filepath to attachment.\n",
    "\n",
    "        Returns\n",
    "        -------\n",
    "        email (EmailMessage): Mail message with new attachment.\n",
    "        \"\"\"\n",
    "        # Attachments\n",
    "        with open(filepath, \"rb\") as fp:\n",
    "            data = fp.read()\n",
    "\n",
    "        # guess encoding\n",
    "        ctype, encoding = mimetypes.guess_type(filepath)\n",
    "        if ctype is None or encoding is not None:\n",
    "            # No guess could be made, or the file is encoded (compressed), so\n",
    "            # use a generic bag-of-bits type.\n",
    "            ctype = \"application/octet-stream\"\n",
    "        maintype, subtype = ctype.split(\"/\", 1)\n",
    "\n",
    "        email.add_attachment(data, maintype=maintype, subtype=subtype)\n",
    "        print(f\"Successfully attached: {filepath}\")\n",
    "        return email\n",
    "\n",
    "\n",
    "    email = EmailMessage()\n",
    "    email[\"Sender\"] = sender\n",
    "    email[\"Recipients\"] = \", \".join(recipients)\n",
    "    email[\"Subject\"] = subject\n",
    "    email.set_content(body)\n",
    "    if filepath != None:\n",
    "        email = add_attachment(email, filepath)\n",
    "\n",
    "    # Email failsafe.\n",
    "    confirm_send = input(f\"Are you sure you want to send to recipients? (Y/N) \\n\\n {recipients}\\n\")\n",
    "\n",
    "    if confirm_send.lower() == \"y\":\n",
    "        context = ssl.create_default_context()\n",
    "        print(\"Sending email...\")\n",
    "        with smtplib.SMTP_SSL(\"smtp.gmail.com\", 465) as smtp_server:\n",
    "            smtp_server.login(sender, password)\n",
    "            smtp_server.sendmail(sender, recipients, email.as_string())\n",
    "        print(\"Message sent!\")\n",
    "    else:\n",
    "        print(\"Message NOT sent!\")\n",
    "\n",
    "\n",
    "    return email\n",
    "\n",
    "password = credentials[\"gmail\"][\"app_password\"]\n",
    "email = send_mail(sender, recipients, subject, body, password)\n"
   ]
  },
  {
   "cell_type": "markdown",
   "metadata": {},
   "source": [
    "# Scraping / Using Selenium"
   ]
  },
  {
   "cell_type": "code",
   "execution_count": 265,
   "metadata": {},
   "outputs": [],
   "source": [
    "from selenium.webdriver import Chrome\n",
    "from selenium.webdriver.chrome.options import Options\n",
    "\n",
    "BROWSER_STALL_SECONDS = 1\n",
    "\n",
    "opts = Options()\n",
    "# opts.add_argument(\"--headless\")\n",
    "# browser = Chrome(options=opts)\n",
    "browser = Chrome()\n",
    "\n",
    "# try browsing to your gmail account.\n",
    "url = \"https://mail.google.com/mail/u/0/#inbox\"\n",
    "browser.get(url)\n",
    "\n",
    "\n",
    "gmailId = \"jaime.meriz13@gmail.com\"\n",
    "browser.implicitly_wait(BROWSER_STALL_SECONDS)\n",
    "login_box = browser.find_element(\"xpath\", '//*[@id =\"identifierId\"]')\n",
    "login_box.send_keys(gmailId)\n",
    "\n",
    "next_button = browser.find_element(\"xpath\", '//*[@id =\"identifierNext\"]')\n",
    "next_button.click()\n",
    "\n",
    "\n",
    "# Looks like \n",
    "password = credentials[\"gmail\"][\"password\"]\n",
    "# password_box = browser.find_element(\"xpath\", '//*[@name=\"Passwd\"]') \n",
    "# password_box.send_keys(password)\n",
    "\n",
    "# nextButton = browser.find_element(\"xpath\", '//*[@id =\"passwordNext\"]')\n",
    "# nextButton.click()\n"
   ]
  },
  {
   "cell_type": "code",
   "execution_count": 256,
   "metadata": {},
   "outputs": [],
   "source": [
    "y = browser.find_element(\"xpath\", '//*[@id =\"next\"]')\n",
    "y.get_attribute(\"jsname\")\n",
    "# This confirms that we are being redirected to an error page so we need to fix that first and\n",
    "# trick chrome into thinking we have a secure browser.\n"
   ]
  },
  {
   "cell_type": "markdown",
   "metadata": {},
   "source": [
    "# Try undedected chrome driver"
   ]
  },
  {
   "cell_type": "code",
   "execution_count": 297,
   "metadata": {},
   "outputs": [],
   "source": [
    "import undetected_chromedriver as uc\n",
    "from selenium.webdriver.chrome.options import Options\n",
    "\n",
    "\n",
    "# Constants\n",
    "BROWSER_STALL_SECONDS = 1\n",
    "\n",
    "\n",
    "# Starting the driver.\n",
    "options = Options()\n",
    "# options.page_load_strategy = \"eager\"\n",
    "args = ['--disable-web-security', '--user-data-dir', '--allow-running-insecure-content']\n",
    "for arg in args:\n",
    "    options.add_argument(arg)\n",
    "\n",
    "browser = uc.Chrome(options=options, headless=False, use_subprocess=False)\n",
    "\n",
    "\n",
    "# Navigating.\n",
    "url = \"https://mail.google.com/mail/u/0/#inbox\"\n",
    "browser.get(url)\n",
    "\n",
    "# Accessing Gmail.\n",
    "# User login\n",
    "gmailId = \"jaime.meriz13@gmail.com\"\n",
    "browser.implicitly_wait(BROWSER_STALL_SECONDS)\n",
    "login_box = browser.find_element(\"xpath\", '//*[@id =\"identifierId\"]')\n",
    "login_box.send_keys(gmailId)\n",
    "\n",
    "# Next page.\n",
    "next_button = browser.find_element(\"xpath\", '//*[@id =\"identifierNext\"]')\n",
    "next_button.click()\n",
    "\n",
    "# User password\n",
    "password = \"ABRAZOSrotos2009*\" # config[\"credentials\"][\"gmail\"][\"password\"]\n",
    "password_box = browser.find_element(\"xpath\", '//*[@name=\"Passwd\"]') \n",
    "\n",
    "# browser.implicitly_wait(200000)\n",
    "# browser.close()\n",
    "\n"
   ]
  },
  {
   "cell_type": "markdown",
   "metadata": {},
   "source": [
    "Success! "
   ]
  },
  {
   "cell_type": "markdown",
   "metadata": {},
   "source": [
    "# Try with primer-manual step"
   ]
  },
  {
   "cell_type": "code",
   "execution_count": 273,
   "metadata": {},
   "outputs": [],
   "source": [
    "\n",
    "options = Options()\n",
    "options.page_load_strategy = 'eager'\n",
    "\n",
    "browser = Chrome(options=options)\n",
    "\n",
    "# Try browsing to your gmail account.\n",
    "# url = \"https://mail.google.com/mail/u/0/#inbox\"\n",
    "browser.get(url)"
   ]
  },
  {
   "cell_type": "markdown",
   "metadata": {},
   "source": [
    "# Try again with options"
   ]
  },
  {
   "cell_type": "code",
   "execution_count": 287,
   "metadata": {},
   "outputs": [
    {
     "ename": "InvalidArgumentException",
     "evalue": "Message: invalid argument: user data dir can not be empty\nStacktrace:\n0   chromedriver                        0x000000010055265c chromedriver + 4318812\n1   chromedriver                        0x000000010054ad00 chromedriver + 4287744\n2   chromedriver                        0x000000010017c7ec chromedriver + 296940\n3   chromedriver                        0x00000001001a75bc chromedriver + 472508\n4   chromedriver                        0x00000001001a3ca0 chromedriver + 457888\n5   chromedriver                        0x00000001001e3954 chromedriver + 719188\n6   chromedriver                        0x00000001001e3120 chromedriver + 717088\n7   chromedriver                        0x00000001001ae178 chromedriver + 500088\n8   chromedriver                        0x00000001001aefc0 chromedriver + 503744\n9   chromedriver                        0x0000000100512c40 chromedriver + 4058176\n10  chromedriver                        0x0000000100517160 chromedriver + 4075872\n11  chromedriver                        0x00000001004dae68 chromedriver + 3829352\n12  chromedriver                        0x0000000100517c4c chromedriver + 4078668\n13  chromedriver                        0x00000001004eff08 chromedriver + 3915528\n14  chromedriver                        0x0000000100534140 chromedriver + 4194624\n15  chromedriver                        0x00000001005342c4 chromedriver + 4195012\n16  chromedriver                        0x00000001005444d0 chromedriver + 4261072\n17  libsystem_pthread.dylib             0x00000001a07aa06c _pthread_start + 148\n18  libsystem_pthread.dylib             0x00000001a07a4e2c thread_start + 8\n",
     "output_type": "error",
     "traceback": [
      "\u001b[0;31m---------------------------------------------------------------------------\u001b[0m",
      "\u001b[0;31mInvalidArgumentException\u001b[0m                  Traceback (most recent call last)",
      "Cell \u001b[0;32mIn[287], line 12\u001b[0m\n\u001b[1;32m      8\u001b[0m \u001b[39mfor\u001b[39;00m arg \u001b[39min\u001b[39;00m args:\n\u001b[1;32m      9\u001b[0m     options\u001b[39m.\u001b[39madd_argument(arg)\n\u001b[0;32m---> 12\u001b[0m browser \u001b[39m=\u001b[39m Chrome(options\u001b[39m=\u001b[39;49moptions)\n\u001b[1;32m     14\u001b[0m \u001b[39m# try browsing to your gmail account.\u001b[39;00m\n\u001b[1;32m     15\u001b[0m url \u001b[39m=\u001b[39m \u001b[39m\"\u001b[39m\u001b[39mhttps://mail.google.com/mail/u/0/#inbox\u001b[39m\u001b[39m\"\u001b[39m\n",
      "File \u001b[0;32m~/miniconda3/envs/petdesk/lib/python3.11/site-packages/selenium/webdriver/chrome/webdriver.py:45\u001b[0m, in \u001b[0;36mWebDriver.__init__\u001b[0;34m(self, options, service, keep_alive)\u001b[0m\n\u001b[1;32m     42\u001b[0m service \u001b[39m=\u001b[39m service \u001b[39mif\u001b[39;00m service \u001b[39melse\u001b[39;00m Service()\n\u001b[1;32m     43\u001b[0m options \u001b[39m=\u001b[39m options \u001b[39mif\u001b[39;00m options \u001b[39melse\u001b[39;00m Options()\n\u001b[0;32m---> 45\u001b[0m \u001b[39msuper\u001b[39;49m()\u001b[39m.\u001b[39;49m\u001b[39m__init__\u001b[39;49m(\n\u001b[1;32m     46\u001b[0m     DesiredCapabilities\u001b[39m.\u001b[39;49mCHROME[\u001b[39m\"\u001b[39;49m\u001b[39mbrowserName\u001b[39;49m\u001b[39m\"\u001b[39;49m],\n\u001b[1;32m     47\u001b[0m     \u001b[39m\"\u001b[39;49m\u001b[39mgoog\u001b[39;49m\u001b[39m\"\u001b[39;49m,\n\u001b[1;32m     48\u001b[0m     options,\n\u001b[1;32m     49\u001b[0m     service,\n\u001b[1;32m     50\u001b[0m     keep_alive,\n\u001b[1;32m     51\u001b[0m )\n",
      "File \u001b[0;32m~/miniconda3/envs/petdesk/lib/python3.11/site-packages/selenium/webdriver/chromium/webdriver.py:56\u001b[0m, in \u001b[0;36mChromiumDriver.__init__\u001b[0;34m(self, browser_name, vendor_prefix, options, service, keep_alive)\u001b[0m\n\u001b[1;32m     53\u001b[0m \u001b[39mself\u001b[39m\u001b[39m.\u001b[39mservice\u001b[39m.\u001b[39mstart()\n\u001b[1;32m     55\u001b[0m \u001b[39mtry\u001b[39;00m:\n\u001b[0;32m---> 56\u001b[0m     \u001b[39msuper\u001b[39;49m()\u001b[39m.\u001b[39;49m\u001b[39m__init__\u001b[39;49m(\n\u001b[1;32m     57\u001b[0m         command_executor\u001b[39m=\u001b[39;49mChromiumRemoteConnection(\n\u001b[1;32m     58\u001b[0m             remote_server_addr\u001b[39m=\u001b[39;49m\u001b[39mself\u001b[39;49m\u001b[39m.\u001b[39;49mservice\u001b[39m.\u001b[39;49mservice_url,\n\u001b[1;32m     59\u001b[0m             browser_name\u001b[39m=\u001b[39;49mbrowser_name,\n\u001b[1;32m     60\u001b[0m             vendor_prefix\u001b[39m=\u001b[39;49mvendor_prefix,\n\u001b[1;32m     61\u001b[0m             keep_alive\u001b[39m=\u001b[39;49mkeep_alive,\n\u001b[1;32m     62\u001b[0m             ignore_proxy\u001b[39m=\u001b[39;49moptions\u001b[39m.\u001b[39;49m_ignore_local_proxy,\n\u001b[1;32m     63\u001b[0m         ),\n\u001b[1;32m     64\u001b[0m         options\u001b[39m=\u001b[39;49moptions,\n\u001b[1;32m     65\u001b[0m     )\n\u001b[1;32m     66\u001b[0m \u001b[39mexcept\u001b[39;00m \u001b[39mException\u001b[39;00m:\n\u001b[1;32m     67\u001b[0m     \u001b[39mself\u001b[39m\u001b[39m.\u001b[39mquit()\n",
      "File \u001b[0;32m~/miniconda3/envs/petdesk/lib/python3.11/site-packages/selenium/webdriver/remote/webdriver.py:205\u001b[0m, in \u001b[0;36mWebDriver.__init__\u001b[0;34m(self, command_executor, keep_alive, file_detector, options)\u001b[0m\n\u001b[1;32m    203\u001b[0m \u001b[39mself\u001b[39m\u001b[39m.\u001b[39m_authenticator_id \u001b[39m=\u001b[39m \u001b[39mNone\u001b[39;00m\n\u001b[1;32m    204\u001b[0m \u001b[39mself\u001b[39m\u001b[39m.\u001b[39mstart_client()\n\u001b[0;32m--> 205\u001b[0m \u001b[39mself\u001b[39;49m\u001b[39m.\u001b[39;49mstart_session(capabilities)\n",
      "File \u001b[0;32m~/miniconda3/envs/petdesk/lib/python3.11/site-packages/selenium/webdriver/remote/webdriver.py:289\u001b[0m, in \u001b[0;36mWebDriver.start_session\u001b[0;34m(self, capabilities)\u001b[0m\n\u001b[1;32m    282\u001b[0m \u001b[39m\u001b[39m\u001b[39m\"\"\"Creates a new session with the desired capabilities.\u001b[39;00m\n\u001b[1;32m    283\u001b[0m \n\u001b[1;32m    284\u001b[0m \u001b[39m:Args:\u001b[39;00m\n\u001b[1;32m    285\u001b[0m \u001b[39m - capabilities - a capabilities dict to start the session with.\u001b[39;00m\n\u001b[1;32m    286\u001b[0m \u001b[39m\"\"\"\u001b[39;00m\n\u001b[1;32m    288\u001b[0m caps \u001b[39m=\u001b[39m _create_caps(capabilities)\n\u001b[0;32m--> 289\u001b[0m response \u001b[39m=\u001b[39m \u001b[39mself\u001b[39;49m\u001b[39m.\u001b[39;49mexecute(Command\u001b[39m.\u001b[39;49mNEW_SESSION, caps)[\u001b[39m\"\u001b[39m\u001b[39mvalue\u001b[39m\u001b[39m\"\u001b[39m]\n\u001b[1;32m    290\u001b[0m \u001b[39mself\u001b[39m\u001b[39m.\u001b[39msession_id \u001b[39m=\u001b[39m response\u001b[39m.\u001b[39mget(\u001b[39m\"\u001b[39m\u001b[39msessionId\u001b[39m\u001b[39m\"\u001b[39m)\n\u001b[1;32m    291\u001b[0m \u001b[39mself\u001b[39m\u001b[39m.\u001b[39mcaps \u001b[39m=\u001b[39m response\u001b[39m.\u001b[39mget(\u001b[39m\"\u001b[39m\u001b[39mcapabilities\u001b[39m\u001b[39m\"\u001b[39m)\n",
      "File \u001b[0;32m~/miniconda3/envs/petdesk/lib/python3.11/site-packages/selenium/webdriver/remote/webdriver.py:344\u001b[0m, in \u001b[0;36mWebDriver.execute\u001b[0;34m(self, driver_command, params)\u001b[0m\n\u001b[1;32m    342\u001b[0m response \u001b[39m=\u001b[39m \u001b[39mself\u001b[39m\u001b[39m.\u001b[39mcommand_executor\u001b[39m.\u001b[39mexecute(driver_command, params)\n\u001b[1;32m    343\u001b[0m \u001b[39mif\u001b[39;00m response:\n\u001b[0;32m--> 344\u001b[0m     \u001b[39mself\u001b[39;49m\u001b[39m.\u001b[39;49merror_handler\u001b[39m.\u001b[39;49mcheck_response(response)\n\u001b[1;32m    345\u001b[0m     response[\u001b[39m\"\u001b[39m\u001b[39mvalue\u001b[39m\u001b[39m\"\u001b[39m] \u001b[39m=\u001b[39m \u001b[39mself\u001b[39m\u001b[39m.\u001b[39m_unwrap_value(response\u001b[39m.\u001b[39mget(\u001b[39m\"\u001b[39m\u001b[39mvalue\u001b[39m\u001b[39m\"\u001b[39m, \u001b[39mNone\u001b[39;00m))\n\u001b[1;32m    346\u001b[0m     \u001b[39mreturn\u001b[39;00m response\n",
      "File \u001b[0;32m~/miniconda3/envs/petdesk/lib/python3.11/site-packages/selenium/webdriver/remote/errorhandler.py:229\u001b[0m, in \u001b[0;36mErrorHandler.check_response\u001b[0;34m(self, response)\u001b[0m\n\u001b[1;32m    227\u001b[0m         alert_text \u001b[39m=\u001b[39m value[\u001b[39m\"\u001b[39m\u001b[39malert\u001b[39m\u001b[39m\"\u001b[39m]\u001b[39m.\u001b[39mget(\u001b[39m\"\u001b[39m\u001b[39mtext\u001b[39m\u001b[39m\"\u001b[39m)\n\u001b[1;32m    228\u001b[0m     \u001b[39mraise\u001b[39;00m exception_class(message, screen, stacktrace, alert_text)  \u001b[39m# type: ignore[call-arg]  # mypy is not smart enough here\u001b[39;00m\n\u001b[0;32m--> 229\u001b[0m \u001b[39mraise\u001b[39;00m exception_class(message, screen, stacktrace)\n",
      "\u001b[0;31mInvalidArgumentException\u001b[0m: Message: invalid argument: user data dir can not be empty\nStacktrace:\n0   chromedriver                        0x000000010055265c chromedriver + 4318812\n1   chromedriver                        0x000000010054ad00 chromedriver + 4287744\n2   chromedriver                        0x000000010017c7ec chromedriver + 296940\n3   chromedriver                        0x00000001001a75bc chromedriver + 472508\n4   chromedriver                        0x00000001001a3ca0 chromedriver + 457888\n5   chromedriver                        0x00000001001e3954 chromedriver + 719188\n6   chromedriver                        0x00000001001e3120 chromedriver + 717088\n7   chromedriver                        0x00000001001ae178 chromedriver + 500088\n8   chromedriver                        0x00000001001aefc0 chromedriver + 503744\n9   chromedriver                        0x0000000100512c40 chromedriver + 4058176\n10  chromedriver                        0x0000000100517160 chromedriver + 4075872\n11  chromedriver                        0x00000001004dae68 chromedriver + 3829352\n12  chromedriver                        0x0000000100517c4c chromedriver + 4078668\n13  chromedriver                        0x00000001004eff08 chromedriver + 3915528\n14  chromedriver                        0x0000000100534140 chromedriver + 4194624\n15  chromedriver                        0x00000001005342c4 chromedriver + 4195012\n16  chromedriver                        0x00000001005444d0 chromedriver + 4261072\n17  libsystem_pthread.dylib             0x00000001a07aa06c _pthread_start + 148\n18  libsystem_pthread.dylib             0x00000001a07a4e2c thread_start + 8\n"
     ]
    }
   ],
   "source": [
    "from selenium.webdriver import Chrome\n",
    "from selenium.webdriver.chrome.options import Options\n",
    "\n",
    "BROWSER_STALL_SECONDS = 1\n",
    "\n",
    "options = Options()\n",
    "args = ['--disable-web-security', '--user-data-dir', '--allow-running-insecure-content' ]\n",
    "for arg in args:\n",
    "    options.add_argument(arg)\n",
    "\n",
    "\n",
    "browser = Chrome(options=options)\n",
    "\n",
    "# try browsing to your gmail account.\n",
    "url = \"https://mail.google.com/mail/u/0/#inbox\"\n",
    "browser.get(url)"
   ]
  },
  {
   "cell_type": "code",
   "execution_count": null,
   "metadata": {},
   "outputs": [],
   "source": []
  }
 ],
 "metadata": {
  "kernelspec": {
   "display_name": "petdesk",
   "language": "python",
   "name": "python3"
  },
  "language_info": {
   "codemirror_mode": {
    "name": "ipython",
    "version": 3
   },
   "file_extension": ".py",
   "mimetype": "text/x-python",
   "name": "python",
   "nbconvert_exporter": "python",
   "pygments_lexer": "ipython3",
   "version": "3.11.0"
  },
  "orig_nbformat": 4
 },
 "nbformat": 4,
 "nbformat_minor": 2
}
