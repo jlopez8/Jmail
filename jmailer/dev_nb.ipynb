{
 "cells": [
  {
   "cell_type": "code",
   "execution_count": 2,
   "metadata": {},
   "outputs": [],
   "source": [
    "# gmailer init\n"
   ]
  },
  {
   "cell_type": "code",
   "execution_count": 83,
   "metadata": {},
   "outputs": [],
   "source": [
    "import datetime as dt\n",
    "\n",
    "import yaml\n",
    "\n",
    "import requests\n",
    "import smtplib\n",
    "import ssl\n",
    "import mimetypes\n",
    "from email.message import EmailMessage\n",
    "\n",
    "import pandas as pd\n",
    "\n"
   ]
  },
  {
   "cell_type": "markdown",
   "metadata": {},
   "source": [
    "## Load Configurations"
   ]
  },
  {
   "cell_type": "code",
   "execution_count": 92,
   "metadata": {},
   "outputs": [],
   "source": [
    "## password and config\n",
    "config = \"../config.yaml\"\n",
    "config = yaml.safe_load(open(config))\n",
    "\n",
    "def parse_config(config: dict):\n",
    "    \"\"\"\n",
    "    Parse the configuration yaml.\n",
    "\n",
    "    Parameters\n",
    "    -------\n",
    "    config (dict{any}): Dictionary of congiruations.\n",
    "\n",
    "    Returns\n",
    "    -------\n",
    "    credentials (dict(any)): Dictionary of credentials.\n",
    "    \"\"\"\n",
    "    credentials = config[\"credentials\"]\n",
    "    ...\n",
    "    return credentials\n",
    "\n",
    "credentials = parse_config(config)"
   ]
  },
  {
   "cell_type": "markdown",
   "metadata": {},
   "source": [
    "# Methods"
   ]
  },
  {
   "cell_type": "code",
   "execution_count": 93,
   "metadata": {},
   "outputs": [],
   "source": [
    "def get_csv_as_list(filepath: str) -> list:\n",
    "    \"\"\"\n",
    "    Get list using a path to a csv.\n",
    "\n",
    "    Parameters\n",
    "    -------\n",
    "    filepath (str): filepath. \n",
    "\n",
    "    Returns\n",
    "    -------\n",
    "    ([str]): List of values.\n",
    "    \n",
    "    \"\"\"\n",
    "    import pandas as pd\n",
    "    recipients = pd.read_csv(recipients_csv_path, header=None)\n",
    "    return recipients[0].values.tolist()\n",
    "\n",
    "\n",
    "#### Potential Class 0\n",
    "class Clearbit():\n",
    "    \"\"\"A class for working with Clearbit API.\"\"\"\n",
    "    def get_name(response: requests.models.Response) -> (str, str):\n",
    "        \"\"\"\n",
    "        Parse response for HTTP request.\n",
    "\n",
    "        Parameters\n",
    "        -------\n",
    "        response (requests.models.Response): Http response with person data.\n",
    "\n",
    "        Returns\n",
    "        -------\n",
    "        name (str, str): Tuple of first and last name. \n",
    "        \"\"\"\n",
    "        if not isinstance(y, requests.models.Response):\n",
    "            print(\"Not a request.\")\n",
    "            return \n",
    "        name = (None, None)\n",
    "        data = response.json()\n",
    "        person = data[\"person\"]\n",
    "        first_name = person[\"name\"][\"givenName\"]\n",
    "        last_name = person[\"name\"][\"familyName\"]\n",
    "        name = (first_name, last_name)\n",
    "        return name\n",
    "\n",
    "\n",
    "    def get_names_from_email_list(recipients_list:[str], username=None, password=None, api_key=None):\n",
    "        \"\"\"\n",
    "        Given a list of recipients, use Clearbit to retreive their names. Other data may be retreieved but at a later stage. \n",
    "        The username is the api_key from Clearbit. Read their docs for more info.\n",
    "\n",
    "        Parameters\n",
    "        -------\n",
    "        username (str): Optional. Username.\n",
    "        password (str): Optional. Password.\n",
    "        api_key (str): API key.\n",
    "\n",
    "        Returns\n",
    "        -------\n",
    "        names {}: Dict of emails to names.\n",
    "        \"\"\"\n",
    "        names = {}\n",
    "        # NOTE: may want to batch this in the future or too many requests will be attempted too quickly.\n",
    "        for email in recipients_list:\n",
    "            url = f\"https://person.clearbit.com/v2/combined/find?email=:{email}\"\n",
    "            clearbit_response = get_response(url, username=clearbit_api_key, password=None, api_key=None)\n",
    "            names[email] = get_name(clearbit_response)\n",
    "        return names\n",
    "#####\n",
    "\n",
    "\n",
    "def get_response(url: str, username=None, password=None, api_key=None):\n",
    "    \"\"\"\n",
    "    Get a response from API using HTTP.\n",
    "\n",
    "    Parameters\n",
    "    -------\n",
    "    url (str): Url for API request.\n",
    "    username (str): Optional. Username.\n",
    "    password (str): Optional. Password.\n",
    "    api_key (str): API key.\n",
    "\n",
    "    Returns\n",
    "    -------\n",
    "    api_response (requests.models.Response): Response.\n",
    "    \"\"\"\n",
    "    api_response = None\n",
    "    api_response = requests.get(url, auth=(username, password))\n",
    "    return api_response\n",
    "\n",
    "\n",
    "\n"
   ]
  },
  {
   "cell_type": "markdown",
   "metadata": {},
   "source": [
    "# Email class"
   ]
  },
  {
   "cell_type": "code",
   "execution_count": 91,
   "metadata": {},
   "outputs": [],
   "source": [
    "sender = \"jaime.meriz13@gmail.com\"\n",
    "\n",
    "# recipient path should be: list of recipients. Single recipient.\n",
    "# recipients_csv_path = \"/Users/jaimemerizalde/Desktop/JOBS 2023/email_recipients.csv\"\n",
    "recipients_csv_path = \"/Users/jaimemerizalde/Desktop/JOBS 2023/email_recipients_2.csv\"\n",
    "recipients = get_csv_as_list(recipients_csv_path)\n",
    "\n",
    "subject = \"DEV\" + \"-\" \"Jmail\" + \"-\" + str(dt.date.today())\n",
    "body = \"body\\nyours\\nDr. Lopez\"\n",
    "# password = \"password\""
   ]
  },
  {
   "cell_type": "code",
   "execution_count": 131,
   "metadata": {},
   "outputs": [
    {
     "name": "stdout",
     "output_type": "stream",
     "text": [
      "Successfully attached: SF_Ryu.png\n",
      "Sending email...\n",
      "Message sent!\n"
     ]
    }
   ],
   "source": [
    "def send_mail(sender: str, recipients: list, subject:str, body: str, password: str, attachment_path=None):\n",
    "    \"\"\"\n",
    "    Send an email via SMTP.\n",
    "\n",
    "    Parameters\n",
    "    -------\n",
    "    sender (str): Sender as a string.\n",
    "    recipients ([str]): List of recipients. \n",
    "    subject (str): Email subject line.\n",
    "    body (str): Email body as string.\n",
    "    password (str): Gmail password as string.\n",
    "    attachment_path (str): Optional. Filepath to attachment. \n",
    "    \n",
    "    Returns\n",
    "    -------\n",
    "    None\n",
    "    \"\"\"\n",
    "    def add_attachment(email: EmailMessage, filepath: str) -> EmailMessage:\n",
    "        \"\"\"\n",
    "        Given original email message. May or may not include an attachment already.\n",
    "\n",
    "        Parameters:\n",
    "        -------\n",
    "        email (EmailMessage): EmailMessage.\n",
    "        filepath (str): Filepath to attachment.\n",
    "\n",
    "        Returns\n",
    "        -------\n",
    "        email (EmailMessage): Mail message with new attachment.\n",
    "        \"\"\"\n",
    "        # Attachments\n",
    "        with open(filepath, \"rb\") as fp:\n",
    "            data = fp.read()\n",
    "\n",
    "        # guess encoding\n",
    "        ctype, encoding = mimetypes.guess_type(filepath)\n",
    "        if ctype is None or encoding is not None:\n",
    "            # No guess could be made, or the file is encoded (compressed), so\n",
    "            # use a generic bag-of-bits type.\n",
    "            ctype = \"application/octet-stream\"\n",
    "        maintype, subtype = ctype.split(\"/\", 1)\n",
    "\n",
    "        email.add_attachment(data, maintype=maintype, subtype=subtype)\n",
    "        print(f\"Successfully attached: {filepath}\")\n",
    "        return email\n",
    "\n",
    "\n",
    "    email = EmailMessage()\n",
    "    email[\"Sender\"] = sender\n",
    "    email[\"Recipients\"] = \", \".join(recipients)\n",
    "    email[\"Subject\"] = subject\n",
    "    email.set_content(body)\n",
    "    if filepath != None:\n",
    "        email = add_attachment(email, filepath)\n",
    "\n",
    "    # Email failsafe.\n",
    "    confirm_send = input(f\"Are you sure you want to send to recipients? (Y/N) \\n\\n {recipients}\\n\")\n",
    "\n",
    "    if confirm_send.lower() == \"y\":\n",
    "        context = ssl.create_default_context()\n",
    "        print(\"Sending email...\")\n",
    "        with smtplib.SMTP_SSL(\"smtp.gmail.com\", 465) as smtp_server:\n",
    "            smtp_server.login(sender, password)\n",
    "            smtp_server.sendmail(sender, recipients, email.as_string())\n",
    "        print(\"Message sent!\")\n",
    "    else:\n",
    "        print(\"Message NOT sent!\")\n",
    "\n",
    "\n",
    "    return email\n",
    "\n",
    "password = credentials[\"gmail\"][\"password\"]\n",
    "email = send_mail(sender, recipients, subject, body, password)\n"
   ]
  },
  {
   "cell_type": "markdown",
   "metadata": {},
   "source": [
    "# Scraping / Using Selenium"
   ]
  },
  {
   "cell_type": "code",
   "execution_count": 191,
   "metadata": {},
   "outputs": [
    {
     "ename": "NoSuchElementException",
     "evalue": "Message: no such element: Unable to locate element: {\"method\":\"xpath\",\"selector\":\"//*[@id =\"password\"]\"}\n  (Session info: headless chrome=116.0.5845.140); For documentation on this error, please visit: https://www.selenium.dev/documentation/webdriver/troubleshooting/errors#no-such-element-exception\nStacktrace:\n0   chromedriver                        0x00000001051a665c chromedriver + 4318812\n1   chromedriver                        0x000000010519ed00 chromedriver + 4287744\n2   chromedriver                        0x0000000104dd07ec chromedriver + 296940\n3   chromedriver                        0x0000000104e0e048 chromedriver + 548936\n4   chromedriver                        0x0000000104e46d28 chromedriver + 781608\n5   chromedriver                        0x0000000104e02178 chromedriver + 500088\n6   chromedriver                        0x0000000104e02fc0 chromedriver + 503744\n7   chromedriver                        0x0000000105166c40 chromedriver + 4058176\n8   chromedriver                        0x000000010516b160 chromedriver + 4075872\n9   chromedriver                        0x000000010512ee68 chromedriver + 3829352\n10  chromedriver                        0x000000010516bc4c chromedriver + 4078668\n11  chromedriver                        0x0000000105143f08 chromedriver + 3915528\n12  chromedriver                        0x0000000105188140 chromedriver + 4194624\n13  chromedriver                        0x00000001051882c4 chromedriver + 4195012\n14  chromedriver                        0x00000001051984d0 chromedriver + 4261072\n15  libsystem_pthread.dylib             0x00000001a07aa06c _pthread_start + 148\n16  libsystem_pthread.dylib             0x00000001a07a4e2c thread_start + 8\n",
     "output_type": "error",
     "traceback": [
      "\u001b[0;31m---------------------------------------------------------------------------\u001b[0m",
      "\u001b[0;31mNoSuchElementException\u001b[0m                    Traceback (most recent call last)",
      "Cell \u001b[0;32mIn[191], line 21\u001b[0m\n\u001b[1;32m     18\u001b[0m next_button\u001b[39m.\u001b[39mclick()\n\u001b[1;32m     20\u001b[0m password \u001b[39m=\u001b[39m \u001b[39m\"\u001b[39m\u001b[39mABRAZOSrotos2009*\u001b[39m\u001b[39m\"\u001b[39m\u001b[39m# config[\"credentials\"][\"gmail\"][\"password\"]\u001b[39;00m\n\u001b[0;32m---> 21\u001b[0m password_box \u001b[39m=\u001b[39m browser\u001b[39m.\u001b[39;49mfind_element(\u001b[39m\"\u001b[39;49m\u001b[39mxpath\u001b[39;49m\u001b[39m\"\u001b[39;49m, \u001b[39m'\u001b[39;49m\u001b[39m//*[@id =\u001b[39;49m\u001b[39m\"\u001b[39;49m\u001b[39mpassword\u001b[39;49m\u001b[39m\"\u001b[39;49m\u001b[39m]\u001b[39;49m\u001b[39m'\u001b[39;49m)\n\u001b[1;32m     22\u001b[0m \u001b[39m# password_box.send_keys(password)\u001b[39;00m\n\u001b[1;32m     23\u001b[0m \n\u001b[1;32m     24\u001b[0m \u001b[39m# nextButton = browser.find_element(\"xpath\", '//*[@id =\"passwordNext\"]')\u001b[39;00m\n\u001b[1;32m     25\u001b[0m \u001b[39m# nextButton.click()\u001b[39;00m\n",
      "File \u001b[0;32m~/miniconda3/envs/petdesk/lib/python3.11/site-packages/selenium/webdriver/remote/webdriver.py:738\u001b[0m, in \u001b[0;36mWebDriver.find_element\u001b[0;34m(self, by, value)\u001b[0m\n\u001b[1;32m    735\u001b[0m     by \u001b[39m=\u001b[39m By\u001b[39m.\u001b[39mCSS_SELECTOR\n\u001b[1;32m    736\u001b[0m     value \u001b[39m=\u001b[39m \u001b[39mf\u001b[39m\u001b[39m'\u001b[39m\u001b[39m[name=\u001b[39m\u001b[39m\"\u001b[39m\u001b[39m{\u001b[39;00mvalue\u001b[39m}\u001b[39;00m\u001b[39m\"\u001b[39m\u001b[39m]\u001b[39m\u001b[39m'\u001b[39m\n\u001b[0;32m--> 738\u001b[0m \u001b[39mreturn\u001b[39;00m \u001b[39mself\u001b[39;49m\u001b[39m.\u001b[39;49mexecute(Command\u001b[39m.\u001b[39;49mFIND_ELEMENT, {\u001b[39m\"\u001b[39;49m\u001b[39musing\u001b[39;49m\u001b[39m\"\u001b[39;49m: by, \u001b[39m\"\u001b[39;49m\u001b[39mvalue\u001b[39;49m\u001b[39m\"\u001b[39;49m: value})[\u001b[39m\"\u001b[39m\u001b[39mvalue\u001b[39m\u001b[39m\"\u001b[39m]\n",
      "File \u001b[0;32m~/miniconda3/envs/petdesk/lib/python3.11/site-packages/selenium/webdriver/remote/webdriver.py:344\u001b[0m, in \u001b[0;36mWebDriver.execute\u001b[0;34m(self, driver_command, params)\u001b[0m\n\u001b[1;32m    342\u001b[0m response \u001b[39m=\u001b[39m \u001b[39mself\u001b[39m\u001b[39m.\u001b[39mcommand_executor\u001b[39m.\u001b[39mexecute(driver_command, params)\n\u001b[1;32m    343\u001b[0m \u001b[39mif\u001b[39;00m response:\n\u001b[0;32m--> 344\u001b[0m     \u001b[39mself\u001b[39;49m\u001b[39m.\u001b[39;49merror_handler\u001b[39m.\u001b[39;49mcheck_response(response)\n\u001b[1;32m    345\u001b[0m     response[\u001b[39m\"\u001b[39m\u001b[39mvalue\u001b[39m\u001b[39m\"\u001b[39m] \u001b[39m=\u001b[39m \u001b[39mself\u001b[39m\u001b[39m.\u001b[39m_unwrap_value(response\u001b[39m.\u001b[39mget(\u001b[39m\"\u001b[39m\u001b[39mvalue\u001b[39m\u001b[39m\"\u001b[39m, \u001b[39mNone\u001b[39;00m))\n\u001b[1;32m    346\u001b[0m     \u001b[39mreturn\u001b[39;00m response\n",
      "File \u001b[0;32m~/miniconda3/envs/petdesk/lib/python3.11/site-packages/selenium/webdriver/remote/errorhandler.py:229\u001b[0m, in \u001b[0;36mErrorHandler.check_response\u001b[0;34m(self, response)\u001b[0m\n\u001b[1;32m    227\u001b[0m         alert_text \u001b[39m=\u001b[39m value[\u001b[39m\"\u001b[39m\u001b[39malert\u001b[39m\u001b[39m\"\u001b[39m]\u001b[39m.\u001b[39mget(\u001b[39m\"\u001b[39m\u001b[39mtext\u001b[39m\u001b[39m\"\u001b[39m)\n\u001b[1;32m    228\u001b[0m     \u001b[39mraise\u001b[39;00m exception_class(message, screen, stacktrace, alert_text)  \u001b[39m# type: ignore[call-arg]  # mypy is not smart enough here\u001b[39;00m\n\u001b[0;32m--> 229\u001b[0m \u001b[39mraise\u001b[39;00m exception_class(message, screen, stacktrace)\n",
      "\u001b[0;31mNoSuchElementException\u001b[0m: Message: no such element: Unable to locate element: {\"method\":\"xpath\",\"selector\":\"//*[@id =\"password\"]\"}\n  (Session info: headless chrome=116.0.5845.140); For documentation on this error, please visit: https://www.selenium.dev/documentation/webdriver/troubleshooting/errors#no-such-element-exception\nStacktrace:\n0   chromedriver                        0x00000001051a665c chromedriver + 4318812\n1   chromedriver                        0x000000010519ed00 chromedriver + 4287744\n2   chromedriver                        0x0000000104dd07ec chromedriver + 296940\n3   chromedriver                        0x0000000104e0e048 chromedriver + 548936\n4   chromedriver                        0x0000000104e46d28 chromedriver + 781608\n5   chromedriver                        0x0000000104e02178 chromedriver + 500088\n6   chromedriver                        0x0000000104e02fc0 chromedriver + 503744\n7   chromedriver                        0x0000000105166c40 chromedriver + 4058176\n8   chromedriver                        0x000000010516b160 chromedriver + 4075872\n9   chromedriver                        0x000000010512ee68 chromedriver + 3829352\n10  chromedriver                        0x000000010516bc4c chromedriver + 4078668\n11  chromedriver                        0x0000000105143f08 chromedriver + 3915528\n12  chromedriver                        0x0000000105188140 chromedriver + 4194624\n13  chromedriver                        0x00000001051882c4 chromedriver + 4195012\n14  chromedriver                        0x00000001051984d0 chromedriver + 4261072\n15  libsystem_pthread.dylib             0x00000001a07aa06c _pthread_start + 148\n16  libsystem_pthread.dylib             0x00000001a07a4e2c thread_start + 8\n"
     ]
    }
   ],
   "source": [
    "from selenium.webdriver import Chrome\n",
    "from selenium.webdriver.chrome.options import Options\n",
    "\n",
    "opts = Options()\n",
    "opts.add_argument(\"--headless\")\n",
    "browser = Chrome(options=opts)\n",
    "\n",
    "# try browsing to your gmail account.\n",
    "url = \"https://mail.google.com/mail/u/0/#inbox\"\n",
    "browser.get(url)\n",
    "\n",
    "\n",
    "gmailId = \"jaime.meriz13@gmail.com\"\n",
    "login_box = browser.find_element(\"xpath\", '//*[@id =\"identifierId\"]')\n",
    "login_box.send_keys(gmailId)\n",
    "\n",
    "next_button = browser.find_element(\"xpath\", '//*[@id =\"identifierNext\"]')\n",
    "next_button.click()\n",
    "\n",
    "password = \"ABRAZOSrotos2009*\" # config[\"credentials\"][\"gmail\"][\"password\"]\n",
    "password_box = browser.find_element(\"xpath\", '//*[@id =\"password\"]')\n",
    "# password_box.send_keys(password)\n",
    "\n",
    "# nextButton = browser.find_element(\"xpath\", '//*[@id =\"passwordNext\"]')\n",
    "# nextButton.click()\n"
   ]
  },
  {
   "cell_type": "code",
   "execution_count": 190,
   "metadata": {},
   "outputs": [
    {
     "data": {
      "text/plain": [
       "{'vendor_prefix': 'goog',\n",
       " 'service': <selenium.webdriver.chrome.service.Service at 0x1512a2710>,\n",
       " 'command_executor': <selenium.webdriver.chromium.remote_connection.ChromiumRemoteConnection at 0x1512957d0>,\n",
       " '_is_remote': False,\n",
       " 'session_id': 'a67ab9a00af123060cc5a5e79d1aadab',\n",
       " 'caps': {'acceptInsecureCerts': False,\n",
       "  'browserName': 'chrome',\n",
       "  'browserVersion': '116.0.5845.140',\n",
       "  'chrome': {'chromedriverVersion': '116.0.5845.96 (1a391816688002153ef791ffe60d9e899a71a037-refs/branch-heads/5845@{#1382})',\n",
       "   'userDataDir': '/var/folders/v3/j0_twvc12kb14hzn7ps4qy340000gn/T/.org.chromium.Chromium.Q8knKZ'},\n",
       "  'fedcm:accounts': True,\n",
       "  'goog:chromeOptions': {'debuggerAddress': 'localhost:57429'},\n",
       "  'networkConnectionEnabled': False,\n",
       "  'pageLoadStrategy': 'normal',\n",
       "  'platformName': 'mac os x',\n",
       "  'proxy': {},\n",
       "  'setWindowRect': True,\n",
       "  'strictFileInteractability': False,\n",
       "  'timeouts': {'implicit': 0, 'pageLoad': 300000, 'script': 30000},\n",
       "  'unhandledPromptBehavior': 'dismiss and notify',\n",
       "  'webauthn:extension:credBlob': True,\n",
       "  'webauthn:extension:largeBlob': True,\n",
       "  'webauthn:extension:minPinLength': True,\n",
       "  'webauthn:extension:prf': True,\n",
       "  'webauthn:virtualAuthenticators': True},\n",
       " 'pinned_scripts': {},\n",
       " 'error_handler': <selenium.webdriver.remote.errorhandler.ErrorHandler at 0x1512963d0>,\n",
       " '_switch_to': <selenium.webdriver.remote.switch_to.SwitchTo at 0x151297510>,\n",
       " '_mobile': <selenium.webdriver.remote.mobile.Mobile at 0x1512a0390>,\n",
       " '_file_detector': <selenium.webdriver.remote.file_detector.LocalFileDetector at 0x1512a2f90>,\n",
       " '_authenticator_id': None}"
      ]
     },
     "execution_count": 190,
     "metadata": {},
     "output_type": "execute_result"
    }
   ],
   "source": [
    "browser.__dict__"
   ]
  },
  {
   "cell_type": "code",
   "execution_count": 178,
   "metadata": {},
   "outputs": [
    {
     "data": {
      "text/plain": [
       "'yimpasqbjgztrfqb'"
      ]
     },
     "execution_count": 178,
     "metadata": {},
     "output_type": "execute_result"
    }
   ],
   "source": [
    "config[\"credentials\"][\"gmail\"][\"password\"]"
   ]
  },
  {
   "cell_type": "code",
   "execution_count": 160,
   "metadata": {},
   "outputs": [
    {
     "ename": "NameError",
     "evalue": "name 'WebDriver' is not defined",
     "output_type": "error",
     "traceback": [
      "\u001b[0;31m---------------------------------------------------------------------------\u001b[0m",
      "\u001b[0;31mNameError\u001b[0m                                 Traceback (most recent call last)",
      "Cell \u001b[0;32mIn[160], line 1\u001b[0m\n\u001b[0;32m----> 1\u001b[0m WebDriver()\u001b[39m.\u001b[39m\u001b[39m__dict__\u001b[39m\n",
      "\u001b[0;31mNameError\u001b[0m: name 'WebDriver' is not defined"
     ]
    }
   ],
   "source": []
  },
  {
   "cell_type": "code",
   "execution_count": null,
   "metadata": {},
   "outputs": [],
   "source": []
  }
 ],
 "metadata": {
  "kernelspec": {
   "display_name": "petdesk",
   "language": "python",
   "name": "python3"
  },
  "language_info": {
   "codemirror_mode": {
    "name": "ipython",
    "version": 3
   },
   "file_extension": ".py",
   "mimetype": "text/x-python",
   "name": "python",
   "nbconvert_exporter": "python",
   "pygments_lexer": "ipython3",
   "version": "3.11.0"
  },
  "orig_nbformat": 4
 },
 "nbformat": 4,
 "nbformat_minor": 2
}
