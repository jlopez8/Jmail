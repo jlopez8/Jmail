{
 "cells": [
  {
   "cell_type": "code",
   "execution_count": 2,
   "metadata": {},
   "outputs": [],
   "source": [
    "# gmailer init\n"
   ]
  },
  {
   "cell_type": "code",
   "execution_count": 21,
   "metadata": {},
   "outputs": [],
   "source": [
    "import datetime as dt\n",
    "\n",
    "import smtplib\n",
    "import mimetypes\n",
    "from email.message import EmailMessage\n",
    "\n"
   ]
  },
  {
   "cell_type": "markdown",
   "metadata": {},
   "source": [
    "# Email class"
   ]
  },
  {
   "cell_type": "code",
   "execution_count": 44,
   "metadata": {},
   "outputs": [],
   "source": [
    "sender = \"jaime.meriz13@gmail.com\"\n",
    "recipients = [\"hexarunner@gmail.com\"]\n",
    "subject = \"DEV\" + \"-\" \"Jmail\" + \"-\" + str(dt.date.today())\n",
    "body = \"body\\nyou'rs truly\\nDr.Lopez\"\n",
    "password = \"password\""
   ]
  },
  {
   "cell_type": "code",
   "execution_count": 47,
   "metadata": {},
   "outputs": [],
   "source": [
    "\n",
    "def send_mail(sender, recipients, subject, body, password):\n",
    "\n",
    "    email = EmailMessage()\n",
    "\n",
    "    email[\"Sender\"] = sender\n",
    "    email[\"Recipients\"] = recipients\n",
    "    email[\"Subject\"] = subject\n",
    "    email.body = body\n",
    "\n",
    "    return email\n",
    "\n"
   ]
  },
  {
   "cell_type": "code",
   "execution_count": 48,
   "metadata": {},
   "outputs": [
    {
     "ename": "AttributeError",
     "evalue": "'list' object has no attribute 'startswith'",
     "output_type": "error",
     "traceback": [
      "\u001b[0;31m---------------------------------------------------------------------------\u001b[0m",
      "\u001b[0;31mAttributeError\u001b[0m                            Traceback (most recent call last)",
      "Cell \u001b[0;32mIn[48], line 1\u001b[0m\n\u001b[0;32m----> 1\u001b[0m send_mail(sender, recipients, subject, body, password)\n",
      "Cell \u001b[0;32mIn[47], line 6\u001b[0m, in \u001b[0;36msend_mail\u001b[0;34m(sender, recipients, subject, body, password)\u001b[0m\n\u001b[1;32m      3\u001b[0m email \u001b[39m=\u001b[39m EmailMessage()\n\u001b[1;32m      5\u001b[0m email[\u001b[39m\"\u001b[39m\u001b[39mSender\u001b[39m\u001b[39m\"\u001b[39m] \u001b[39m=\u001b[39m sender\n\u001b[0;32m----> 6\u001b[0m email[\u001b[39m\"\u001b[39;49m\u001b[39mRecipients\u001b[39;49m\u001b[39m\"\u001b[39;49m] \u001b[39m=\u001b[39m recipients\n\u001b[1;32m      7\u001b[0m email[\u001b[39m\"\u001b[39m\u001b[39mSubject\u001b[39m\u001b[39m\"\u001b[39m] \u001b[39m=\u001b[39m subject\n\u001b[1;32m      8\u001b[0m \u001b[39m# email.body = body\u001b[39;00m\n",
      "File \u001b[0;32m~/miniconda3/envs/petdesk/lib/python3.11/email/message.py:436\u001b[0m, in \u001b[0;36mMessage.__setitem__\u001b[0;34m(self, name, val)\u001b[0m\n\u001b[1;32m    433\u001b[0m             \u001b[39mif\u001b[39;00m found \u001b[39m>\u001b[39m\u001b[39m=\u001b[39m max_count:\n\u001b[1;32m    434\u001b[0m                 \u001b[39mraise\u001b[39;00m \u001b[39mValueError\u001b[39;00m(\u001b[39m\"\u001b[39m\u001b[39mThere may be at most \u001b[39m\u001b[39m{}\u001b[39;00m\u001b[39m \u001b[39m\u001b[39m{}\u001b[39;00m\u001b[39m headers \u001b[39m\u001b[39m\"\u001b[39m\n\u001b[1;32m    435\u001b[0m                                  \u001b[39m\"\u001b[39m\u001b[39min a message\u001b[39m\u001b[39m\"\u001b[39m\u001b[39m.\u001b[39mformat(max_count, name))\n\u001b[0;32m--> 436\u001b[0m \u001b[39mself\u001b[39m\u001b[39m.\u001b[39m_headers\u001b[39m.\u001b[39mappend(\u001b[39mself\u001b[39;49m\u001b[39m.\u001b[39;49mpolicy\u001b[39m.\u001b[39;49mheader_store_parse(name, val))\n",
      "File \u001b[0;32m~/miniconda3/envs/petdesk/lib/python3.11/email/policy.py:148\u001b[0m, in \u001b[0;36mEmailPolicy.header_store_parse\u001b[0;34m(self, name, value)\u001b[0m\n\u001b[1;32m    143\u001b[0m \u001b[39mif\u001b[39;00m \u001b[39misinstance\u001b[39m(value, \u001b[39mstr\u001b[39m) \u001b[39mand\u001b[39;00m \u001b[39mlen\u001b[39m(value\u001b[39m.\u001b[39msplitlines())\u001b[39m>\u001b[39m\u001b[39m1\u001b[39m:\n\u001b[1;32m    144\u001b[0m     \u001b[39m# XXX this error message isn't quite right when we use splitlines\u001b[39;00m\n\u001b[1;32m    145\u001b[0m     \u001b[39m# (see issue 22233), but I'm not sure what should happen here.\u001b[39;00m\n\u001b[1;32m    146\u001b[0m     \u001b[39mraise\u001b[39;00m \u001b[39mValueError\u001b[39;00m(\u001b[39m\"\u001b[39m\u001b[39mHeader values may not contain linefeed \u001b[39m\u001b[39m\"\u001b[39m\n\u001b[1;32m    147\u001b[0m                      \u001b[39m\"\u001b[39m\u001b[39mor carriage return characters\u001b[39m\u001b[39m\"\u001b[39m)\n\u001b[0;32m--> 148\u001b[0m \u001b[39mreturn\u001b[39;00m (name, \u001b[39mself\u001b[39;49m\u001b[39m.\u001b[39;49mheader_factory(name, value))\n",
      "File \u001b[0;32m~/miniconda3/envs/petdesk/lib/python3.11/email/headerregistry.py:604\u001b[0m, in \u001b[0;36mHeaderRegistry.__call__\u001b[0;34m(self, name, value)\u001b[0m\n\u001b[1;32m    594\u001b[0m \u001b[39mdef\u001b[39;00m \u001b[39m__call__\u001b[39m(\u001b[39mself\u001b[39m, name, value):\n\u001b[1;32m    595\u001b[0m \u001b[39m    \u001b[39m\u001b[39m\"\"\"Create a header instance for header 'name' from 'value'.\u001b[39;00m\n\u001b[1;32m    596\u001b[0m \n\u001b[1;32m    597\u001b[0m \u001b[39m    Creates a header instance by creating a specialized class for parsing\u001b[39;00m\n\u001b[0;32m   (...)\u001b[0m\n\u001b[1;32m    602\u001b[0m \n\u001b[1;32m    603\u001b[0m \u001b[39m    \"\"\"\u001b[39;00m\n\u001b[0;32m--> 604\u001b[0m     \u001b[39mreturn\u001b[39;00m \u001b[39mself\u001b[39;49m[name](name, value)\n",
      "File \u001b[0;32m~/miniconda3/envs/petdesk/lib/python3.11/email/headerregistry.py:192\u001b[0m, in \u001b[0;36mBaseHeader.__new__\u001b[0;34m(cls, name, value)\u001b[0m\n\u001b[1;32m    190\u001b[0m \u001b[39mdef\u001b[39;00m \u001b[39m__new__\u001b[39m(\u001b[39mcls\u001b[39m, name, value):\n\u001b[1;32m    191\u001b[0m     kwds \u001b[39m=\u001b[39m {\u001b[39m'\u001b[39m\u001b[39mdefects\u001b[39m\u001b[39m'\u001b[39m: []}\n\u001b[0;32m--> 192\u001b[0m     \u001b[39mcls\u001b[39;49m\u001b[39m.\u001b[39;49mparse(value, kwds)\n\u001b[1;32m    193\u001b[0m     \u001b[39mif\u001b[39;00m utils\u001b[39m.\u001b[39m_has_surrogates(kwds[\u001b[39m'\u001b[39m\u001b[39mdecoded\u001b[39m\u001b[39m'\u001b[39m]):\n\u001b[1;32m    194\u001b[0m         kwds[\u001b[39m'\u001b[39m\u001b[39mdecoded\u001b[39m\u001b[39m'\u001b[39m] \u001b[39m=\u001b[39m utils\u001b[39m.\u001b[39m_sanitize(kwds[\u001b[39m'\u001b[39m\u001b[39mdecoded\u001b[39m\u001b[39m'\u001b[39m])\n",
      "File \u001b[0;32m~/miniconda3/envs/petdesk/lib/python3.11/email/headerregistry.py:267\u001b[0m, in \u001b[0;36mUnstructuredHeader.parse\u001b[0;34m(cls, value, kwds)\u001b[0m\n\u001b[1;32m    265\u001b[0m \u001b[39m@classmethod\u001b[39m\n\u001b[1;32m    266\u001b[0m \u001b[39mdef\u001b[39;00m \u001b[39mparse\u001b[39m(\u001b[39mcls\u001b[39m, value, kwds):\n\u001b[0;32m--> 267\u001b[0m     kwds[\u001b[39m'\u001b[39m\u001b[39mparse_tree\u001b[39m\u001b[39m'\u001b[39m] \u001b[39m=\u001b[39m \u001b[39mcls\u001b[39;49m\u001b[39m.\u001b[39;49mvalue_parser(value)\n\u001b[1;32m    268\u001b[0m     kwds[\u001b[39m'\u001b[39m\u001b[39mdecoded\u001b[39m\u001b[39m'\u001b[39m] \u001b[39m=\u001b[39m \u001b[39mstr\u001b[39m(kwds[\u001b[39m'\u001b[39m\u001b[39mparse_tree\u001b[39m\u001b[39m'\u001b[39m])\n",
      "File \u001b[0;32m~/miniconda3/envs/petdesk/lib/python3.11/email/_header_value_parser.py:1117\u001b[0m, in \u001b[0;36mget_unstructured\u001b[0;34m(value)\u001b[0m\n\u001b[1;32m   1115\u001b[0m     \u001b[39mcontinue\u001b[39;00m\n\u001b[1;32m   1116\u001b[0m valid_ew \u001b[39m=\u001b[39m \u001b[39mTrue\u001b[39;00m\n\u001b[0;32m-> 1117\u001b[0m \u001b[39mif\u001b[39;00m value\u001b[39m.\u001b[39;49mstartswith(\u001b[39m'\u001b[39m\u001b[39m=?\u001b[39m\u001b[39m'\u001b[39m):\n\u001b[1;32m   1118\u001b[0m     \u001b[39mtry\u001b[39;00m:\n\u001b[1;32m   1119\u001b[0m         token, value \u001b[39m=\u001b[39m get_encoded_word(value)\n",
      "\u001b[0;31mAttributeError\u001b[0m: 'list' object has no attribute 'startswith'"
     ]
    }
   ],
   "source": [
    "send_mail(sender, recipients, subject, body, password)"
   ]
  },
  {
   "cell_type": "code",
   "execution_count": null,
   "metadata": {},
   "outputs": [],
   "source": []
  }
 ],
 "metadata": {
  "kernelspec": {
   "display_name": "petdesk",
   "language": "python",
   "name": "python3"
  },
  "language_info": {
   "codemirror_mode": {
    "name": "ipython",
    "version": 3
   },
   "file_extension": ".py",
   "mimetype": "text/x-python",
   "name": "python",
   "nbconvert_exporter": "python",
   "pygments_lexer": "ipython3",
   "version": "3.11.0"
  },
  "orig_nbformat": 4
 },
 "nbformat": 4,
 "nbformat_minor": 2
}
