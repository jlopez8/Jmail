{
 "cells": [
  {
   "cell_type": "code",
   "execution_count": 2,
   "metadata": {},
   "outputs": [],
   "source": [
    "# gmailer init\n"
   ]
  },
  {
   "cell_type": "code",
   "execution_count": 37,
   "metadata": {},
   "outputs": [],
   "source": [
    "import datetime as dt\n",
    "\n",
    "import yaml\n",
    "\n",
    "import smtplib\n",
    "import ssl\n",
    "import mimetypes\n",
    "from email.message import EmailMessage\n",
    "\n",
    "import pandas as pd\n",
    "\n"
   ]
  },
  {
   "cell_type": "markdown",
   "metadata": {},
   "source": [
    "## Load Configurations"
   ]
  },
  {
   "cell_type": "code",
   "execution_count": 38,
   "metadata": {},
   "outputs": [],
   "source": [
    "## password and config\n",
    "config = \"../config.yaml\"\n",
    "config = yaml.safe_load(open(config))\n",
    "\n",
    "def parse_config(config: dict):\n",
    "    \"\"\"\n",
    "    Parse the configuration yaml.\n",
    "\n",
    "    Parameters\n",
    "    -------\n",
    "    config (dict{any}): Dictionary of congiruations.\n",
    "\n",
    "    Returns\n",
    "    -------\n",
    "    credentials (dict(any)): Dictionary of credentials.\n",
    "    \"\"\"\n",
    "    credentials = config[\"credentials\"]\n",
    "    ...\n",
    "    return credentials\n",
    "\n",
    "credentials = parse_config(config)"
   ]
  },
  {
   "cell_type": "markdown",
   "metadata": {},
   "source": [
    "# Methods"
   ]
  },
  {
   "cell_type": "code",
   "execution_count": 30,
   "metadata": {},
   "outputs": [],
   "source": [
    "def get_csv_as_list(filepath: str) -> list:\n",
    "    \"\"\"\n",
    "    Get list using a path to a csv.\n",
    "\n",
    "    Parameters\n",
    "    -------\n",
    "    filepath (str): filepath. \n",
    "\n",
    "    Returns\n",
    "    -------\n",
    "    ([str]): List of values.\n",
    "    \n",
    "    \"\"\"\n",
    "    import pandas as pd\n",
    "    recipients = pd.read_csv(recipients_csv_path, header=None)\n",
    "    return recipients[0].values.tolist()"
   ]
  },
  {
   "cell_type": "markdown",
   "metadata": {},
   "source": [
    "# Email class"
   ]
  },
  {
   "cell_type": "code",
   "execution_count": 33,
   "metadata": {},
   "outputs": [],
   "source": [
    "sender = \"jaime.meriz13@gmail.com\"\n",
    "\n",
    "# recipient path should be: list of recipients. Single recipient.\n",
    "recipients_csv_path = \"/Users/jaimemerizalde/Desktop/JOBS 2023/email_recipients.csv\"\n",
    "recipients_csv_path = \"/Users/jaimemerizalde/Desktop/JOBS 2023/email_recipients_2.csv\"\n",
    "recipients = get_csv_as_list(recipients_csv_path)\n",
    "\n",
    "subject = \"DEV\" + \"-\" \"Jmail\" + \"-\" + str(dt.date.today())\n",
    "body = \"body\\nyours\\nDr. Lopez\"\n",
    "# password = \"password\""
   ]
  },
  {
   "cell_type": "code",
   "execution_count": 32,
   "metadata": {},
   "outputs": [
    {
     "data": {
      "text/plain": [
       "['marco.starger@getgarner.com',\n",
       " 'austin.lovell@getgarner.com',\n",
       " 'evelyn.siu@getgarner.com']"
      ]
     },
     "execution_count": 32,
     "metadata": {},
     "output_type": "execute_result"
    }
   ],
   "source": [
    "recipients"
   ]
  },
  {
   "cell_type": "code",
   "execution_count": 48,
   "metadata": {},
   "outputs": [
    {
     "name": "stdout",
     "output_type": "stream",
     "text": [
      "Sending email...\n",
      "Message sent!\n"
     ]
    }
   ],
   "source": [
    "\n",
    "def send_mail(sender: str, recipients: list, subject:str, body: str, password: str):\n",
    "    \"\"\"\n",
    "    Send an email via SMTP.\n",
    "\n",
    "    Parameters\n",
    "    -------\n",
    "    sender (str): Sender as a string.\n",
    "    recipients ([str]): List of recipients. \n",
    "    subject (str): Email subject line.\n",
    "    body (str): Email body as string.\n",
    "    password (str): Gmail password as string.\n",
    "    \n",
    "    Returns\n",
    "    -------\n",
    "    None\n",
    "    \"\"\"\n",
    "\n",
    "    email = EmailMessage()\n",
    "    email[\"Sender\"] = sender\n",
    "    email[\"Recipients\"] = \", \".join(recipients)\n",
    "    email[\"Subject\"] = subject\n",
    "    email.set_content(body)\n",
    "\n",
    "\n",
    "    context = ssl.create_default_context()\n",
    "    \n",
    "    # Email failsafe.\n",
    "    confirm_send = input(f\"Are you sure you want to send to recipients? (Y/N) \\n\\n {recipients}\\n\")\n",
    "\n",
    "    if confirm_send.lower() == \"y\":\n",
    "        print(\"Sending email...\")\n",
    "        with smtplib.SMTP_SSL(\"smtp.gmail.com\", 465) as smtp_server:\n",
    "            smtp_server.login(sender, password)\n",
    "            smtp_server.sendmail(sender, recipients, email.as_string())\n",
    "        print(\"Message sent!\")\n",
    "    else:\n",
    "        print(\"Message NOT sent!\")\n",
    "\n",
    "\n",
    "    return email\n",
    "\n",
    "password = credentials[\"gmail\"][\"password\"]\n",
    "email = send_mail(sender, recipients, subject, body, password)\n"
   ]
  },
  {
   "cell_type": "code",
   "execution_count": null,
   "metadata": {},
   "outputs": [],
   "source": []
  }
 ],
 "metadata": {
  "kernelspec": {
   "display_name": "petdesk",
   "language": "python",
   "name": "python3"
  },
  "language_info": {
   "codemirror_mode": {
    "name": "ipython",
    "version": 3
   },
   "file_extension": ".py",
   "mimetype": "text/x-python",
   "name": "python",
   "nbconvert_exporter": "python",
   "pygments_lexer": "ipython3",
   "version": "3.11.0"
  },
  "orig_nbformat": 4
 },
 "nbformat": 4,
 "nbformat_minor": 2
}
