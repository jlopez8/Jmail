{
 "cells": [
  {
   "cell_type": "code",
   "execution_count": 2,
   "metadata": {},
   "outputs": [],
   "source": [
    "# gmailer init\n"
   ]
  },
  {
   "cell_type": "code",
   "execution_count": 260,
   "metadata": {},
   "outputs": [],
   "source": [
    "import datetime as dt\n",
    "\n",
    "import yaml\n",
    "\n",
    "import requests\n",
    "import smtplib\n",
    "import ssl\n",
    "import mimetypes\n",
    "from email.message import EmailMessage\n",
    "\n",
    "import pandas as pd\n",
    "\n"
   ]
  },
  {
   "cell_type": "markdown",
   "metadata": {},
   "source": [
    "## Load Configurations"
   ]
  },
  {
   "cell_type": "code",
   "execution_count": 298,
   "metadata": {},
   "outputs": [],
   "source": [
    "## password and config\n",
    "config = \"../config.yaml\"\n",
    "config = yaml.safe_load(open(config))\n",
    "\n",
    "def parse_config(config: dict):\n",
    "    \"\"\"\n",
    "    Parse the configuration yaml.\n",
    "\n",
    "    Parameters\n",
    "    -------\n",
    "    config (dict{any}): Dictionary of congiruations.\n",
    "\n",
    "    Returns\n",
    "    -------\n",
    "    credentials (dict(any)): Dictionary of credentials.\n",
    "    \"\"\"\n",
    "    credentials = config[\"credentials\"]\n",
    "    ...\n",
    "    return credentials\n",
    "\n",
    "credentials = parse_config(config)"
   ]
  },
  {
   "cell_type": "markdown",
   "metadata": {},
   "source": [
    "# Methods"
   ]
  },
  {
   "cell_type": "code",
   "execution_count": 262,
   "metadata": {},
   "outputs": [],
   "source": [
    "def get_csv_as_list(filepath: str) -> list:\n",
    "    \"\"\"\n",
    "    Get list using a path to a csv.\n",
    "\n",
    "    Parameters\n",
    "    -------\n",
    "    filepath (str): filepath. \n",
    "\n",
    "    Returns\n",
    "    -------\n",
    "    ([str]): List of values.\n",
    "    \n",
    "    \"\"\"\n",
    "    import pandas as pd\n",
    "    recipients = pd.read_csv(recipients_csv_path, header=None)\n",
    "    return recipients[0].values.tolist()\n",
    "\n",
    "\n",
    "#### Potential Class 0\n",
    "class Clearbit():\n",
    "    \"\"\"A class for working with Clearbit API.\"\"\"\n",
    "    def get_name(response: requests.models.Response) -> (str, str):\n",
    "        \"\"\"\n",
    "        Parse response for HTTP request.\n",
    "\n",
    "        Parameters\n",
    "        -------\n",
    "        response (requests.models.Response): Http response with person data.\n",
    "\n",
    "        Returns\n",
    "        -------\n",
    "        name (str, str): Tuple of first and last name. \n",
    "        \"\"\"\n",
    "        if not isinstance(y, requests.models.Response):\n",
    "            print(\"Not a request.\")\n",
    "            return \n",
    "        name = (None, None)\n",
    "        data = response.json()\n",
    "        person = data[\"person\"]\n",
    "        first_name = person[\"name\"][\"givenName\"]\n",
    "        last_name = person[\"name\"][\"familyName\"]\n",
    "        name = (first_name, last_name)\n",
    "        return name\n",
    "\n",
    "\n",
    "    def get_names_from_email_list(recipients_list:[str], username=None, password=None, api_key=None):\n",
    "        \"\"\"\n",
    "        Given a list of recipients, use Clearbit to retreive their names. Other data may be retreieved but at a later stage. \n",
    "        The username is the api_key from Clearbit. Read their docs for more info.\n",
    "\n",
    "        Parameters\n",
    "        -------\n",
    "        username (str): Optional. Username.\n",
    "        password (str): Optional. Password.\n",
    "        api_key (str): API key.\n",
    "\n",
    "        Returns\n",
    "        -------\n",
    "        names {}: Dict of emails to names.\n",
    "        \"\"\"\n",
    "        names = {}\n",
    "        # NOTE: may want to batch this in the future or too many requests will be attempted too quickly.\n",
    "        for email in recipients_list:\n",
    "            url = f\"https://person.clearbit.com/v2/combined/find?email=:{email}\"\n",
    "            clearbit_response = get_response(url, username=clearbit_api_key, password=None, api_key=None)\n",
    "            names[email] = get_name(clearbit_response)\n",
    "        return names\n",
    "#####\n",
    "\n",
    "\n",
    "def get_response(url: str, username=None, password=None, api_key=None):\n",
    "    \"\"\"\n",
    "    Get a response from API using HTTP.\n",
    "\n",
    "    Parameters\n",
    "    -------\n",
    "    url (str): Url for API request.\n",
    "    username (str): Optional. Username.\n",
    "    password (str): Optional. Password.\n",
    "    api_key (str): API key.\n",
    "\n",
    "    Returns\n",
    "    -------\n",
    "    api_response (requests.models.Response): Response.\n",
    "    \"\"\"\n",
    "    api_response = None\n",
    "    api_response = requests.get(url, auth=(username, password))\n",
    "    return api_response\n",
    "\n",
    "\n",
    "\n"
   ]
  },
  {
   "cell_type": "markdown",
   "metadata": {},
   "source": [
    "# Email class"
   ]
  },
  {
   "cell_type": "code",
   "execution_count": 263,
   "metadata": {},
   "outputs": [],
   "source": [
    "sender = \"jaime.meriz13@gmail.com\"\n",
    "\n",
    "# recipient path should be: list of recipients. Single recipient.\n",
    "# recipients_csv_path = \"/Users/jaimemerizalde/Desktop/JOBS 2023/email_recipients.csv\"\n",
    "recipients_csv_path = \"/Users/jaimemerizalde/Desktop/JOBS 2023/email_recipients_2.csv\"\n",
    "recipients = get_csv_as_list(recipients_csv_path)\n",
    "\n",
    "subject = \"DEV\" + \"-\" \"Jmail\" + \"-\" + str(dt.date.today())\n",
    "body = \"body\\nyours\\nDr. Lopez\"\n",
    "# password = \"password\""
   ]
  },
  {
   "cell_type": "code",
   "execution_count": 131,
   "metadata": {},
   "outputs": [
    {
     "name": "stdout",
     "output_type": "stream",
     "text": [
      "Successfully attached: SF_Ryu.png\n",
      "Sending email...\n",
      "Message sent!\n"
     ]
    }
   ],
   "source": [
    "def send_mail(sender: str, recipients: list, subject:str, body: str, password: str, attachment_path=None):\n",
    "    \"\"\"\n",
    "    Send an email via SMTP.\n",
    "\n",
    "    Parameters\n",
    "    -------\n",
    "    sender (str): Sender as a string.\n",
    "    recipients ([str]): List of recipients. \n",
    "    subject (str): Email subject line.\n",
    "    body (str): Email body as string.\n",
    "    password (str): Gmail password as string.\n",
    "    attachment_path (str): Optional. Filepath to attachment. \n",
    "    \n",
    "    Returns\n",
    "    -------\n",
    "    None\n",
    "    \"\"\"\n",
    "    def add_attachment(email: EmailMessage, filepath: str) -> EmailMessage:\n",
    "        \"\"\"\n",
    "        Given original email message. May or may not include an attachment already.\n",
    "\n",
    "        Parameters:\n",
    "        -------\n",
    "        email (EmailMessage): EmailMessage.\n",
    "        filepath (str): Filepath to attachment.\n",
    "\n",
    "        Returns\n",
    "        -------\n",
    "        email (EmailMessage): Mail message with new attachment.\n",
    "        \"\"\"\n",
    "        # Attachments\n",
    "        with open(filepath, \"rb\") as fp:\n",
    "            data = fp.read()\n",
    "\n",
    "        # guess encoding\n",
    "        ctype, encoding = mimetypes.guess_type(filepath)\n",
    "        if ctype is None or encoding is not None:\n",
    "            # No guess could be made, or the file is encoded (compressed), so\n",
    "            # use a generic bag-of-bits type.\n",
    "            ctype = \"application/octet-stream\"\n",
    "        maintype, subtype = ctype.split(\"/\", 1)\n",
    "\n",
    "        email.add_attachment(data, maintype=maintype, subtype=subtype)\n",
    "        print(f\"Successfully attached: {filepath}\")\n",
    "        return email\n",
    "\n",
    "\n",
    "    email = EmailMessage()\n",
    "    email[\"Sender\"] = sender\n",
    "    email[\"Recipients\"] = \", \".join(recipients)\n",
    "    email[\"Subject\"] = subject\n",
    "    email.set_content(body)\n",
    "    if filepath != None:\n",
    "        email = add_attachment(email, filepath)\n",
    "\n",
    "    # Email failsafe.\n",
    "    confirm_send = input(f\"Are you sure you want to send to recipients? (Y/N) \\n\\n {recipients}\\n\")\n",
    "\n",
    "    if confirm_send.lower() == \"y\":\n",
    "        context = ssl.create_default_context()\n",
    "        print(\"Sending email...\")\n",
    "        with smtplib.SMTP_SSL(\"smtp.gmail.com\", 465) as smtp_server:\n",
    "            smtp_server.login(sender, password)\n",
    "            smtp_server.sendmail(sender, recipients, email.as_string())\n",
    "        print(\"Message sent!\")\n",
    "    else:\n",
    "        print(\"Message NOT sent!\")\n",
    "\n",
    "\n",
    "    return email\n",
    "\n",
    "password = credentials[\"gmail\"][\"app_password\"]\n",
    "email = send_mail(sender, recipients, subject, body, password)\n"
   ]
  },
  {
   "cell_type": "markdown",
   "metadata": {},
   "source": [
    "# Scraping / Using Selenium"
   ]
  },
  {
   "cell_type": "code",
   "execution_count": 265,
   "metadata": {},
   "outputs": [],
   "source": [
    "from selenium.webdriver import Chrome\n",
    "from selenium.webdriver.chrome.options import Options\n",
    "\n",
    "BROWSER_STALL_SECONDS = 1\n",
    "\n",
    "opts = Options()\n",
    "# opts.add_argument(\"--headless\")\n",
    "# browser = Chrome(options=opts)\n",
    "browser = Chrome()\n",
    "\n",
    "# try browsing to your gmail account.\n",
    "url = \"https://mail.google.com/mail/u/0/#inbox\"\n",
    "browser.get(url)\n",
    "\n",
    "# \n",
    "gmailId = \"jaime.meriz13@gmail.com\"\n",
    "browser.implicitly_wait(BROWSER_STALL_SECONDS)\n",
    "login_box = browser.find_element(\"xpath\", '//*[@id =\"identifierId\"]')\n",
    "login_box.send_keys(gmailId)\n",
    "\n",
    "\n",
    "next_button = browser.find_element(\"xpath\", '//*[@id =\"identifierNext\"]')\n",
    "next_button.click()\n",
    "\n",
    "\n",
    "# Looks like \n",
    "password = credentials[\"gmail\"][\"password\"]\n",
    "browser.implicitly_wait(BROWSER_STALL_SECONDS)\n",
    "password_box = browser.find_element(\"xpath\", '//*[@name=\"Passwd\"]') \n",
    "\n",
    "password_box.send_keys(password)\n",
    "\n",
    "# nextButton = browser.find_element(\"xpath\", '//*[@id =\"passwordNext\"]')\n",
    "# nextButton.click()\n"
   ]
  },
  {
   "cell_type": "code",
   "execution_count": 256,
   "metadata": {},
   "outputs": [],
   "source": [
    "y = browser.find_element(\"xpath\", '//*[@id =\"next\"]')\n",
    "y.get_attribute(\"jsname\")\n",
    "# This confirms that we are being redirected to an error page so we need to fix that first and\n",
    "# trick chrome into thinking we have a secure browser.\n"
   ]
  },
  {
   "cell_type": "markdown",
   "metadata": {},
   "source": [
    "# Try undedected chrome driver"
   ]
  },
  {
   "cell_type": "code",
   "execution_count": 335,
   "metadata": {},
   "outputs": [],
   "source": [
    "import undetected_chromedriver as uc\n",
    "from selenium.webdriver.chrome.options import Options\n",
    "\n",
    "\n",
    "# Constants\n",
    "BROWSER_STALL_SECONDS = 1\n",
    "\n",
    "\n",
    "# Starting the driver.\n",
    "options = Options()\n",
    "# options.page_load_strategy = \"eager\"\n",
    "args = ['--disable-web-security', '--user-data-dir', '--allow-running-insecure-content']\n",
    "for arg in args:\n",
    "    options.add_argument(arg)\n",
    "\n",
    "browser = uc.Chrome(options=options, headless=False, use_subprocess=False)\n",
    "\n",
    "\n",
    "# Navigating.\n",
    "url = \"https://mail.google.com/mail/u/0/#inbox\"\n",
    "browser.get(url)\n",
    "\n",
    "# Accessing Gmail.\n",
    "# User login\n",
    "gmailId = \"jaime.meriz13@gmail.com\"\n",
    "browser.implicitly_wait(BROWSER_STALL_SECONDS)\n",
    "login_box = browser.find_element(\"xpath\", '//*[@id =\"identifierId\"]')\n",
    "login_box.send_keys(gmailId)\n",
    "\n",
    "# Submit and navigate.\n",
    "next_button = browser.find_element(\"xpath\", '//*[@id =\"identifierNext\"]')\n",
    "next_button.click()\n",
    "\n",
    "# User password\n",
    "password = credentials[\"gmail\"][\"password\"]\n",
    "browser.implicitly_wait(BROWSER_STALL_SECONDS)\n",
    "password_box = browser.find_element(\"xpath\", '//*[@name=\"Passwd\"]') \n",
    "password_box.send_keys(password)\n",
    "\n",
    "# Submit and navigate.\n",
    "nextButton = browser.find_element(\"xpath\", '//*[@id=\"passwordNext\"]')\n",
    "nextButton.click()\n",
    "\n",
    "\n",
    "# browser.close()\n"
   ]
  },
  {
   "cell_type": "code",
   "execution_count": 331,
   "metadata": {},
   "outputs": [
    {
     "data": {
      "text/plain": [
       "<undetected_chromedriver.webelement.WebElement (session=\"122a6bff71536e24ad43b8a8898b1a5e\", element=\"25350B54980EAC2F530ECDCD7DF99209_element_422\")>"
      ]
     },
     "execution_count": 331,
     "metadata": {},
     "output_type": "execute_result"
    }
   ],
   "source": [
    "# z = browser.find_element(\"xpath\", '//*[@id=\":1e\"]')\n",
    "z"
   ]
  },
  {
   "cell_type": "markdown",
   "metadata": {},
   "source": [
    "It's mostly working with the exception that because of the 2-factor verification process, we're being blocked. Maybe I can turn it off?  \n",
    "\n",
    "Yes, successfully turned this off!"
   ]
  },
  {
   "cell_type": "markdown",
   "metadata": {},
   "source": []
  }
 ],
 "metadata": {
  "kernelspec": {
   "display_name": "petdesk",
   "language": "python",
   "name": "python3"
  },
  "language_info": {
   "codemirror_mode": {
    "name": "ipython",
    "version": 3
   },
   "file_extension": ".py",
   "mimetype": "text/x-python",
   "name": "python",
   "nbconvert_exporter": "python",
   "pygments_lexer": "ipython3",
   "version": "3.11.0"
  },
  "orig_nbformat": 4
 },
 "nbformat": 4,
 "nbformat_minor": 2
}
